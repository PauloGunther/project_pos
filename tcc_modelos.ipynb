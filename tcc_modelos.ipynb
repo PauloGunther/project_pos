{
  "cells": [
    {
      "cell_type": "markdown",
      "metadata": {
        "id": "view-in-github",
        "colab_type": "text"
      },
      "source": [
        "<a href=\"https://colab.research.google.com/github/PauloGunther/project_pos/blob/main/tcc_modelos.ipynb\" target=\"_parent\"><img src=\"https://colab.research.google.com/assets/colab-badge.svg\" alt=\"Open In Colab\"/></a>"
      ]
    },
    {
      "cell_type": "markdown",
      "metadata": {
        "id": "wF89u6X8UNFI"
      },
      "source": [
        "# 1. Introdução"
      ]
    },
    {
      "cell_type": "markdown",
      "metadata": {
        "id": "ef_lpoSkvnGL"
      },
      "source": [
        "### Considerações iniciais\n",
        "O trabalho visa comparar o desemprenho de tres modelos de machine learning para prever os preços dos imóveis em Goinia-GO: SARIMAX - Modelo estatistico para séries temperais, XGBoost - Ensemble sequencial de arvores de decisão e LSTM - Rede neural para dados sequencias de longo prazo.\n",
        "\n",
        "Para isso serão usados como variaveis indepentes 10 inidicadores macroeconomicos:\n",
        "\n",
        "dolar - Média mensal de compra\n",
        "\n",
        "tx_juros - Taxa média de juros das operações de crédito\n",
        "\n",
        "ipca - Índice nacional de preços ao consumidor-amplo\n",
        "\n",
        "renda_med - Rendimento médio real habitual das pessoas ocupadas\n",
        "\n",
        "ocupado_rend - População ocupada com rendimento\n",
        "\n",
        "incc - Indice de custo de construção geral (Mão de obra + Material)\n",
        "\n",
        "ic_agro - Indice de preços de commodities focado apenas em agricolas\n",
        "\n",
        "inadim_imob - inadimplencia imobiliaria PJ e PF\n",
        "\n",
        "sald_cred - Saldo da carteira de crédito com recursos direcionados\n",
        "\n",
        "vol_cred - Volume da carteira de crédito com recursos direcionados"
      ]
    },
    {
      "cell_type": "markdown",
      "metadata": {
        "id": "t1gIi7CXfNgk"
      },
      "source": [
        "## 1.2 Bibliotecas usadas e importação dos dados"
      ]
    },
    {
      "cell_type": "code",
      "execution_count": 265,
      "metadata": {
        "id": "BahYsLJfvWVq"
      },
      "outputs": [],
      "source": [
        "# Bibliotecas gerais\n",
        "import pandas as pd\n",
        "import matplotlib.pyplot as plt\n",
        "import seaborn as sns\n",
        "import numpy as np\n",
        "from math import sqrt\n",
        "import random\n",
        "import itertools\n",
        "\n",
        "# BIbliotecas de Machine Learning\n",
        "from sklearn.preprocessing import StandardScaler, MinMaxScaler # Padronizar/Normalizar features\n",
        "from sklearn.metrics import mean_absolute_error, mean_squared_error, r2_score\n",
        "from sklearn.model_selection import train_test_split  # Divisao de dados\n",
        "from statsmodels.tsa.stattools import ccf # para calcular a correlação cruzada\n",
        "\n",
        "# Bibliotecas ARIMA\n",
        "from statsmodels.tsa.stattools import adfuller # Teste de estacionariedade\n",
        "from statsmodels.graphics.tsaplots import plot_acf, plot_pacf  # Autocorreções\n",
        "from statsmodels.tsa.statespace.sarimax import SARIMAX # Modelo\n",
        "import statsmodels.api as sm\n",
        "\n",
        "# Bibliotecas XGBoost\n",
        "import xgboost as xgb # Modelo\n",
        "import shap # Peso das variaveis\n",
        "from sklearn import tree # Visualizar arvore de decisao\n",
        "from sklearn.model_selection import TimeSeriesSplit # Validação cruzada em séries temporais\n",
        "\n",
        "# Bibliotecas Rede Neural\n",
        "from tensorflow.keras.models import Sequential\n",
        "from tensorflow.keras.layers import LSTM, Dense, Dropout\n",
        "from tensorflow.keras.callbacks import EarlyStopping\n",
        "import tensorflow as tf\n",
        "from keras.optimizers import Adam\n",
        "\n",
        "# Outras\n",
        "import warnings\n",
        "import os\n",
        "warnings.filterwarnings('ignore')"
      ]
    },
    {
      "cell_type": "code",
      "execution_count": 266,
      "metadata": {
        "colab": {
          "base_uri": "https://localhost:8080/",
          "height": 206
        },
        "id": "RFV23gjEJ6fx",
        "outputId": "ccc06cae-0de1-479b-ec06-2880899d8268"
      },
      "outputs": [
        {
          "output_type": "execute_result",
          "data": {
            "text/plain": [
              "          date  go_price  tx_juros      ipca  renda_med  ocupado_rend  \\\n",
              "133 2025-02-01    7974.0     30.56  5.057630     3335.0       99291.0   \n",
              "134 2025-03-01    7982.0     31.25  5.477190     3347.0       99213.0   \n",
              "135 2025-04-01    7936.0     31.53  5.529729     3331.0       99972.0   \n",
              "136 2025-05-01    7905.0     31.56  5.319636     3342.0      100585.0   \n",
              "137 2025-06-01    7886.0     31.52  5.351165     3369.0      101004.0   \n",
              "\n",
              "         incc  ic_agro  inadim_imob  vol_cred  sald_cred  \n",
              "133  7.419134   510.22     1.146447   20534.0  1250719.0  \n",
              "134  7.536965   484.87     1.206241   20244.0  1263677.0  \n",
              "135  7.536965   494.59     1.234180   21813.0  1276366.0  \n",
              "136  7.238429   491.25     1.241216   21979.0  1289912.0  \n",
              "137  7.217132   476.21     1.121180   21873.0  1300442.0  "
            ],
            "text/html": [
              "\n",
              "  <div id=\"df-cad56bc1-a2cb-40e2-b5a1-09090c4017cc\" class=\"colab-df-container\">\n",
              "    <div>\n",
              "<style scoped>\n",
              "    .dataframe tbody tr th:only-of-type {\n",
              "        vertical-align: middle;\n",
              "    }\n",
              "\n",
              "    .dataframe tbody tr th {\n",
              "        vertical-align: top;\n",
              "    }\n",
              "\n",
              "    .dataframe thead th {\n",
              "        text-align: right;\n",
              "    }\n",
              "</style>\n",
              "<table border=\"1\" class=\"dataframe\">\n",
              "  <thead>\n",
              "    <tr style=\"text-align: right;\">\n",
              "      <th></th>\n",
              "      <th>date</th>\n",
              "      <th>go_price</th>\n",
              "      <th>tx_juros</th>\n",
              "      <th>ipca</th>\n",
              "      <th>renda_med</th>\n",
              "      <th>ocupado_rend</th>\n",
              "      <th>incc</th>\n",
              "      <th>ic_agro</th>\n",
              "      <th>inadim_imob</th>\n",
              "      <th>vol_cred</th>\n",
              "      <th>sald_cred</th>\n",
              "    </tr>\n",
              "  </thead>\n",
              "  <tbody>\n",
              "    <tr>\n",
              "      <th>133</th>\n",
              "      <td>2025-02-01</td>\n",
              "      <td>7974.0</td>\n",
              "      <td>30.56</td>\n",
              "      <td>5.057630</td>\n",
              "      <td>3335.0</td>\n",
              "      <td>99291.0</td>\n",
              "      <td>7.419134</td>\n",
              "      <td>510.22</td>\n",
              "      <td>1.146447</td>\n",
              "      <td>20534.0</td>\n",
              "      <td>1250719.0</td>\n",
              "    </tr>\n",
              "    <tr>\n",
              "      <th>134</th>\n",
              "      <td>2025-03-01</td>\n",
              "      <td>7982.0</td>\n",
              "      <td>31.25</td>\n",
              "      <td>5.477190</td>\n",
              "      <td>3347.0</td>\n",
              "      <td>99213.0</td>\n",
              "      <td>7.536965</td>\n",
              "      <td>484.87</td>\n",
              "      <td>1.206241</td>\n",
              "      <td>20244.0</td>\n",
              "      <td>1263677.0</td>\n",
              "    </tr>\n",
              "    <tr>\n",
              "      <th>135</th>\n",
              "      <td>2025-04-01</td>\n",
              "      <td>7936.0</td>\n",
              "      <td>31.53</td>\n",
              "      <td>5.529729</td>\n",
              "      <td>3331.0</td>\n",
              "      <td>99972.0</td>\n",
              "      <td>7.536965</td>\n",
              "      <td>494.59</td>\n",
              "      <td>1.234180</td>\n",
              "      <td>21813.0</td>\n",
              "      <td>1276366.0</td>\n",
              "    </tr>\n",
              "    <tr>\n",
              "      <th>136</th>\n",
              "      <td>2025-05-01</td>\n",
              "      <td>7905.0</td>\n",
              "      <td>31.56</td>\n",
              "      <td>5.319636</td>\n",
              "      <td>3342.0</td>\n",
              "      <td>100585.0</td>\n",
              "      <td>7.238429</td>\n",
              "      <td>491.25</td>\n",
              "      <td>1.241216</td>\n",
              "      <td>21979.0</td>\n",
              "      <td>1289912.0</td>\n",
              "    </tr>\n",
              "    <tr>\n",
              "      <th>137</th>\n",
              "      <td>2025-06-01</td>\n",
              "      <td>7886.0</td>\n",
              "      <td>31.52</td>\n",
              "      <td>5.351165</td>\n",
              "      <td>3369.0</td>\n",
              "      <td>101004.0</td>\n",
              "      <td>7.217132</td>\n",
              "      <td>476.21</td>\n",
              "      <td>1.121180</td>\n",
              "      <td>21873.0</td>\n",
              "      <td>1300442.0</td>\n",
              "    </tr>\n",
              "  </tbody>\n",
              "</table>\n",
              "</div>\n",
              "    <div class=\"colab-df-buttons\">\n",
              "\n",
              "  <div class=\"colab-df-container\">\n",
              "    <button class=\"colab-df-convert\" onclick=\"convertToInteractive('df-cad56bc1-a2cb-40e2-b5a1-09090c4017cc')\"\n",
              "            title=\"Convert this dataframe to an interactive table.\"\n",
              "            style=\"display:none;\">\n",
              "\n",
              "  <svg xmlns=\"http://www.w3.org/2000/svg\" height=\"24px\" viewBox=\"0 -960 960 960\">\n",
              "    <path d=\"M120-120v-720h720v720H120Zm60-500h600v-160H180v160Zm220 220h160v-160H400v160Zm0 220h160v-160H400v160ZM180-400h160v-160H180v160Zm440 0h160v-160H620v160ZM180-180h160v-160H180v160Zm440 0h160v-160H620v160Z\"/>\n",
              "  </svg>\n",
              "    </button>\n",
              "\n",
              "  <style>\n",
              "    .colab-df-container {\n",
              "      display:flex;\n",
              "      gap: 12px;\n",
              "    }\n",
              "\n",
              "    .colab-df-convert {\n",
              "      background-color: #E8F0FE;\n",
              "      border: none;\n",
              "      border-radius: 50%;\n",
              "      cursor: pointer;\n",
              "      display: none;\n",
              "      fill: #1967D2;\n",
              "      height: 32px;\n",
              "      padding: 0 0 0 0;\n",
              "      width: 32px;\n",
              "    }\n",
              "\n",
              "    .colab-df-convert:hover {\n",
              "      background-color: #E2EBFA;\n",
              "      box-shadow: 0px 1px 2px rgba(60, 64, 67, 0.3), 0px 1px 3px 1px rgba(60, 64, 67, 0.15);\n",
              "      fill: #174EA6;\n",
              "    }\n",
              "\n",
              "    .colab-df-buttons div {\n",
              "      margin-bottom: 4px;\n",
              "    }\n",
              "\n",
              "    [theme=dark] .colab-df-convert {\n",
              "      background-color: #3B4455;\n",
              "      fill: #D2E3FC;\n",
              "    }\n",
              "\n",
              "    [theme=dark] .colab-df-convert:hover {\n",
              "      background-color: #434B5C;\n",
              "      box-shadow: 0px 1px 3px 1px rgba(0, 0, 0, 0.15);\n",
              "      filter: drop-shadow(0px 1px 2px rgba(0, 0, 0, 0.3));\n",
              "      fill: #FFFFFF;\n",
              "    }\n",
              "  </style>\n",
              "\n",
              "    <script>\n",
              "      const buttonEl =\n",
              "        document.querySelector('#df-cad56bc1-a2cb-40e2-b5a1-09090c4017cc button.colab-df-convert');\n",
              "      buttonEl.style.display =\n",
              "        google.colab.kernel.accessAllowed ? 'block' : 'none';\n",
              "\n",
              "      async function convertToInteractive(key) {\n",
              "        const element = document.querySelector('#df-cad56bc1-a2cb-40e2-b5a1-09090c4017cc');\n",
              "        const dataTable =\n",
              "          await google.colab.kernel.invokeFunction('convertToInteractive',\n",
              "                                                    [key], {});\n",
              "        if (!dataTable) return;\n",
              "\n",
              "        const docLinkHtml = 'Like what you see? Visit the ' +\n",
              "          '<a target=\"_blank\" href=https://colab.research.google.com/notebooks/data_table.ipynb>data table notebook</a>'\n",
              "          + ' to learn more about interactive tables.';\n",
              "        element.innerHTML = '';\n",
              "        dataTable['output_type'] = 'display_data';\n",
              "        await google.colab.output.renderOutput(dataTable, element);\n",
              "        const docLink = document.createElement('div');\n",
              "        docLink.innerHTML = docLinkHtml;\n",
              "        element.appendChild(docLink);\n",
              "      }\n",
              "    </script>\n",
              "  </div>\n",
              "\n",
              "\n",
              "    <div id=\"df-6df8e53d-fee1-4fcf-a1e1-4c4ace4e7093\">\n",
              "      <button class=\"colab-df-quickchart\" onclick=\"quickchart('df-6df8e53d-fee1-4fcf-a1e1-4c4ace4e7093')\"\n",
              "                title=\"Suggest charts\"\n",
              "                style=\"display:none;\">\n",
              "\n",
              "<svg xmlns=\"http://www.w3.org/2000/svg\" height=\"24px\"viewBox=\"0 0 24 24\"\n",
              "     width=\"24px\">\n",
              "    <g>\n",
              "        <path d=\"M19 3H5c-1.1 0-2 .9-2 2v14c0 1.1.9 2 2 2h14c1.1 0 2-.9 2-2V5c0-1.1-.9-2-2-2zM9 17H7v-7h2v7zm4 0h-2V7h2v10zm4 0h-2v-4h2v4z\"/>\n",
              "    </g>\n",
              "</svg>\n",
              "      </button>\n",
              "\n",
              "<style>\n",
              "  .colab-df-quickchart {\n",
              "      --bg-color: #E8F0FE;\n",
              "      --fill-color: #1967D2;\n",
              "      --hover-bg-color: #E2EBFA;\n",
              "      --hover-fill-color: #174EA6;\n",
              "      --disabled-fill-color: #AAA;\n",
              "      --disabled-bg-color: #DDD;\n",
              "  }\n",
              "\n",
              "  [theme=dark] .colab-df-quickchart {\n",
              "      --bg-color: #3B4455;\n",
              "      --fill-color: #D2E3FC;\n",
              "      --hover-bg-color: #434B5C;\n",
              "      --hover-fill-color: #FFFFFF;\n",
              "      --disabled-bg-color: #3B4455;\n",
              "      --disabled-fill-color: #666;\n",
              "  }\n",
              "\n",
              "  .colab-df-quickchart {\n",
              "    background-color: var(--bg-color);\n",
              "    border: none;\n",
              "    border-radius: 50%;\n",
              "    cursor: pointer;\n",
              "    display: none;\n",
              "    fill: var(--fill-color);\n",
              "    height: 32px;\n",
              "    padding: 0;\n",
              "    width: 32px;\n",
              "  }\n",
              "\n",
              "  .colab-df-quickchart:hover {\n",
              "    background-color: var(--hover-bg-color);\n",
              "    box-shadow: 0 1px 2px rgba(60, 64, 67, 0.3), 0 1px 3px 1px rgba(60, 64, 67, 0.15);\n",
              "    fill: var(--button-hover-fill-color);\n",
              "  }\n",
              "\n",
              "  .colab-df-quickchart-complete:disabled,\n",
              "  .colab-df-quickchart-complete:disabled:hover {\n",
              "    background-color: var(--disabled-bg-color);\n",
              "    fill: var(--disabled-fill-color);\n",
              "    box-shadow: none;\n",
              "  }\n",
              "\n",
              "  .colab-df-spinner {\n",
              "    border: 2px solid var(--fill-color);\n",
              "    border-color: transparent;\n",
              "    border-bottom-color: var(--fill-color);\n",
              "    animation:\n",
              "      spin 1s steps(1) infinite;\n",
              "  }\n",
              "\n",
              "  @keyframes spin {\n",
              "    0% {\n",
              "      border-color: transparent;\n",
              "      border-bottom-color: var(--fill-color);\n",
              "      border-left-color: var(--fill-color);\n",
              "    }\n",
              "    20% {\n",
              "      border-color: transparent;\n",
              "      border-left-color: var(--fill-color);\n",
              "      border-top-color: var(--fill-color);\n",
              "    }\n",
              "    30% {\n",
              "      border-color: transparent;\n",
              "      border-left-color: var(--fill-color);\n",
              "      border-top-color: var(--fill-color);\n",
              "      border-right-color: var(--fill-color);\n",
              "    }\n",
              "    40% {\n",
              "      border-color: transparent;\n",
              "      border-right-color: var(--fill-color);\n",
              "      border-top-color: var(--fill-color);\n",
              "    }\n",
              "    60% {\n",
              "      border-color: transparent;\n",
              "      border-right-color: var(--fill-color);\n",
              "    }\n",
              "    80% {\n",
              "      border-color: transparent;\n",
              "      border-right-color: var(--fill-color);\n",
              "      border-bottom-color: var(--fill-color);\n",
              "    }\n",
              "    90% {\n",
              "      border-color: transparent;\n",
              "      border-bottom-color: var(--fill-color);\n",
              "    }\n",
              "  }\n",
              "</style>\n",
              "\n",
              "      <script>\n",
              "        async function quickchart(key) {\n",
              "          const quickchartButtonEl =\n",
              "            document.querySelector('#' + key + ' button');\n",
              "          quickchartButtonEl.disabled = true;  // To prevent multiple clicks.\n",
              "          quickchartButtonEl.classList.add('colab-df-spinner');\n",
              "          try {\n",
              "            const charts = await google.colab.kernel.invokeFunction(\n",
              "                'suggestCharts', [key], {});\n",
              "          } catch (error) {\n",
              "            console.error('Error during call to suggestCharts:', error);\n",
              "          }\n",
              "          quickchartButtonEl.classList.remove('colab-df-spinner');\n",
              "          quickchartButtonEl.classList.add('colab-df-quickchart-complete');\n",
              "        }\n",
              "        (() => {\n",
              "          let quickchartButtonEl =\n",
              "            document.querySelector('#df-6df8e53d-fee1-4fcf-a1e1-4c4ace4e7093 button');\n",
              "          quickchartButtonEl.style.display =\n",
              "            google.colab.kernel.accessAllowed ? 'block' : 'none';\n",
              "        })();\n",
              "      </script>\n",
              "    </div>\n",
              "\n",
              "    </div>\n",
              "  </div>\n"
            ],
            "application/vnd.google.colaboratory.intrinsic+json": {
              "type": "dataframe",
              "summary": "{\n  \"name\": \"df_pre_pro\",\n  \"rows\": 5,\n  \"fields\": [\n    {\n      \"column\": \"date\",\n      \"properties\": {\n        \"dtype\": \"date\",\n        \"min\": \"2025-02-01 00:00:00\",\n        \"max\": \"2025-06-01 00:00:00\",\n        \"num_unique_values\": 5,\n        \"samples\": [\n          \"2025-03-01 00:00:00\",\n          \"2025-06-01 00:00:00\",\n          \"2025-04-01 00:00:00\"\n        ],\n        \"semantic_type\": \"\",\n        \"description\": \"\"\n      }\n    },\n    {\n      \"column\": \"go_price\",\n      \"properties\": {\n        \"dtype\": \"number\",\n        \"std\": 41.89033301371571,\n        \"min\": 7886.0,\n        \"max\": 7982.0,\n        \"num_unique_values\": 5,\n        \"samples\": [\n          7982.0,\n          7886.0,\n          7936.0\n        ],\n        \"semantic_type\": \"\",\n        \"description\": \"\"\n      }\n    },\n    {\n      \"column\": \"tx_juros\",\n      \"properties\": {\n        \"dtype\": \"number\",\n        \"std\": 0.4235917846228847,\n        \"min\": 30.56,\n        \"max\": 31.56,\n        \"num_unique_values\": 5,\n        \"samples\": [\n          31.25,\n          31.52,\n          31.53\n        ],\n        \"semantic_type\": \"\",\n        \"description\": \"\"\n      }\n    },\n    {\n      \"column\": \"ipca\",\n      \"properties\": {\n        \"dtype\": \"number\",\n        \"std\": 0.18360281459207323,\n        \"min\": 5.057630414778758,\n        \"max\": 5.52972858849774,\n        \"num_unique_values\": 5,\n        \"samples\": [\n          5.477189641674851,\n          5.35116523759851,\n          5.52972858849774\n        ],\n        \"semantic_type\": \"\",\n        \"description\": \"\"\n      }\n    },\n    {\n      \"column\": \"renda_med\",\n      \"properties\": {\n        \"dtype\": \"number\",\n        \"std\": 14.872793954062566,\n        \"min\": 3331.0,\n        \"max\": 3369.0,\n        \"num_unique_values\": 5,\n        \"samples\": [\n          3347.0,\n          3369.0,\n          3331.0\n        ],\n        \"semantic_type\": \"\",\n        \"description\": \"\"\n      }\n    },\n    {\n      \"column\": \"ocupado_rend\",\n      \"properties\": {\n        \"dtype\": \"number\",\n        \"std\": 786.166331001271,\n        \"min\": 99213.0,\n        \"max\": 101004.0,\n        \"num_unique_values\": 5,\n        \"samples\": [\n          99213.0,\n          101004.0,\n          99972.0\n        ],\n        \"semantic_type\": \"\",\n        \"description\": \"\"\n      }\n    },\n    {\n      \"column\": \"incc\",\n      \"properties\": {\n        \"dtype\": \"number\",\n        \"std\": 0.15564608922445033,\n        \"min\": 7.217132189933695,\n        \"max\": 7.536964761605125,\n        \"num_unique_values\": 5,\n        \"samples\": [\n          7.536964761605125,\n          7.217132189933695,\n          7.536964761605036\n        ],\n        \"semantic_type\": \"\",\n        \"description\": \"\"\n      }\n    },\n    {\n      \"column\": \"ic_agro\",\n      \"properties\": {\n        \"dtype\": \"number\",\n        \"std\": 12.626995683851339,\n        \"min\": 476.21,\n        \"max\": 510.22,\n        \"num_unique_values\": 5,\n        \"samples\": [\n          484.87,\n          476.21,\n          494.59\n        ],\n        \"semantic_type\": \"\",\n        \"description\": \"\"\n      }\n    },\n    {\n      \"column\": \"inadim_imob\",\n      \"properties\": {\n        \"dtype\": \"number\",\n        \"std\": 0.053552923530794036,\n        \"min\": 1.1211803909747609,\n        \"max\": 1.2412163310365358,\n        \"num_unique_values\": 5,\n        \"samples\": [\n          1.2062414525230736,\n          1.1211803909747609,\n          1.2341804466743864\n        ],\n        \"semantic_type\": \"\",\n        \"description\": \"\"\n      }\n    },\n    {\n      \"column\": \"vol_cred\",\n      \"properties\": {\n        \"dtype\": \"number\",\n        \"std\": 829.7260391237579,\n        \"min\": 20244.0,\n        \"max\": 21979.0,\n        \"num_unique_values\": 5,\n        \"samples\": [\n          20244.0,\n          21873.0,\n          21813.0\n        ],\n        \"semantic_type\": \"\",\n        \"description\": \"\"\n      }\n    },\n    {\n      \"column\": \"sald_cred\",\n      \"properties\": {\n        \"dtype\": \"number\",\n        \"std\": 19886.083468093962,\n        \"min\": 1250719.0,\n        \"max\": 1300442.0,\n        \"num_unique_values\": 5,\n        \"samples\": [\n          1263677.0,\n          1300442.0,\n          1276366.0\n        ],\n        \"semantic_type\": \"\",\n        \"description\": \"\"\n      }\n    }\n  ]\n}"
            }
          },
          "metadata": {},
          "execution_count": 266
        }
      ],
      "source": [
        "# Importar dataframe já pré-processado\n",
        "url = \"https://github.com/PauloGunther/project_pos/raw/refs/heads/main/df_pre_model.pkl\"\n",
        "\n",
        "df_pre_pro = pd.read_pickle(url)\n",
        "df_pre_pro.tail()"
      ]
    },
    {
      "cell_type": "code",
      "execution_count": 267,
      "metadata": {
        "id": "nKRGDqiUQKjJ"
      },
      "outputs": [],
      "source": [
        "# Transforma feature datetime em indice\n",
        "df_pre_pro.set_index('date', inplace=True)"
      ]
    },
    {
      "cell_type": "code",
      "execution_count": 268,
      "metadata": {
        "colab": {
          "base_uri": "https://localhost:8080/"
        },
        "id": "oPhtxZPGSbOg",
        "outputId": "9a166537-6724-4b5d-b3a1-b5e2fdfa5bb2"
      },
      "outputs": [
        {
          "output_type": "stream",
          "name": "stdout",
          "text": [
            "<class 'pandas.core.frame.DataFrame'>\n",
            "DatetimeIndex: 138 entries, 2014-01-01 to 2025-06-01\n",
            "Data columns (total 10 columns):\n",
            " #   Column        Non-Null Count  Dtype  \n",
            "---  ------        --------------  -----  \n",
            " 0   go_price      138 non-null    float64\n",
            " 1   tx_juros      138 non-null    float64\n",
            " 2   ipca          138 non-null    float64\n",
            " 3   renda_med     138 non-null    float64\n",
            " 4   ocupado_rend  138 non-null    float64\n",
            " 5   incc          138 non-null    float64\n",
            " 6   ic_agro       138 non-null    float64\n",
            " 7   inadim_imob   138 non-null    float64\n",
            " 8   vol_cred      138 non-null    float64\n",
            " 9   sald_cred     138 non-null    float64\n",
            "dtypes: float64(10)\n",
            "memory usage: 11.9 KB\n"
          ]
        }
      ],
      "source": [
        "df_pre_pro.info()"
      ]
    },
    {
      "cell_type": "markdown",
      "metadata": {
        "id": "3WRfzZwQTvOS"
      },
      "source": [
        "# 2. SARIMAX\n"
      ]
    },
    {
      "cell_type": "markdown",
      "metadata": {
        "id": "2QOBib6AbJOB"
      },
      "source": [
        "## 2.1 Análise da variavel dependente\n",
        "Avaliando o preço do metro quadrado dos imóveis em Goiânia, observa-se que se trata de uma série temporal não estacionária, pois as principais estatísticas se alteram ao longo do tempo. O teste de estacionariedade de Dickey-Fuller confirmou essa característica, pois o nível de significância foi maior que 0,05, rejeitando a hipótese nula da série ser estacionaria. Assim, foram necessárias duas diferenciações para tornar a série estacionária, o que sugere o uso do parâmetro d=2 no modelo SARIMAX.\n",
        "\n",
        "Em relação às funções de autocorrelação [ACF] e autocorrelação parcial [PACF], observou-se um declínio acentuado logo no primeiro “lag”, embora os valores iniciais tenham permanecido fora do intervalo de confiança, como observado na Figura 8 e Figura 9, respectivamente. O retorno aos limites de confiança ocorreu a partir do segundo “lag” em ambas as funções, indicando a possibilidade de adoção dos parâmetros p=2 e q=2 no modelo.\n"
      ]
    },
    {
      "cell_type": "code",
      "execution_count": 269,
      "metadata": {
        "id": "xUHXxT57UmxX"
      },
      "outputs": [],
      "source": [
        "# Copiando df pré processado\n",
        "df_sarimax = df_pre_pro.copy()"
      ]
    },
    {
      "cell_type": "code",
      "execution_count": 270,
      "metadata": {
        "id": "lQIloJz0SPEl"
      },
      "outputs": [],
      "source": [
        "# Separando df em y e X\n",
        "y = df_sarimax['go_price']  # preço dos imóveis R$/m²\n",
        "X = df_sarimax.drop(columns=['go_price'])  # variáveis exógenas"
      ]
    },
    {
      "cell_type": "code",
      "execution_count": 271,
      "metadata": {
        "colab": {
          "base_uri": "https://localhost:8080/",
          "height": 0
        },
        "id": "zumFcTbjyAt1",
        "outputId": "df07d89b-901b-4be0-9da7-6da19c47253d"
      },
      "outputs": [
        {
          "output_type": "display_data",
          "data": {
            "text/plain": [
              "<Figure size 600x300 with 1 Axes>"
            ],
            "image/png": "[encoded data removed]"
          },
          "metadata": {}
        }
      ],
      "source": [
        "# Tamanho da figura\n",
        "plt.figure(figsize=(6, 3))\n",
        "\n",
        "# Plot da segunda série\n",
        "plt.plot(df_sarimax.index, df_sarimax['go_price'], label='Preço Goiânia R$/m²', color ='grey')\n",
        "\n",
        "# Opções dos eixos\n",
        "plt.ylabel('R$/m²', fontsize=10)\n",
        "plt.yticks(fontsize=10)\n",
        "plt.xticks(fontsize=10)\n",
        "\n",
        "# Legedas\n",
        "plt.legend()\n",
        "\n",
        "# Tirar eixos paralelos\n",
        "ax = plt.gca()\n",
        "ax.spines['top'].set_visible(False)\n",
        "ax.spines['right'].set_visible(False)\n",
        "\n",
        "# Ajustar gráfico\n",
        "plt.tight_layout()\n",
        "plt.show()"
      ]
    },
    {
      "cell_type": "code",
      "execution_count": 272,
      "metadata": {
        "colab": {
          "base_uri": "https://localhost:8080/"
        },
        "id": "Y1BgWwtGwH1P",
        "outputId": "f4749c41-0e51-4f30-a82f-7f07ad46400d"
      },
      "outputs": [
        {
          "output_type": "stream",
          "name": "stdout",
          "text": [
            "p-value: 0.39987539806678524\n",
            "Não estacionária\n"
          ]
        }
      ],
      "source": [
        "# Teste de estacionariedade do preço (Augmented Dickey-Fuller)\n",
        "result = adfuller(y)\n",
        "print(f'p-value: {result[1]}')\n",
        "\n",
        "if result[1] > 0.05:\n",
        "    print('Não estacionária')\n",
        "else:\n",
        "    print('Estacionária')"
      ]
    },
    {
      "cell_type": "code",
      "execution_count": 273,
      "metadata": {
        "colab": {
          "base_uri": "https://localhost:8080/"
        },
        "id": "HEAXQMwkxGuL",
        "outputId": "05197577-4f24-4825-b671-1dc11441430d"
      },
      "outputs": [
        {
          "output_type": "stream",
          "name": "stdout",
          "text": [
            "p-value: 2.341470663882069e-09\n",
            "Estacionária\n"
          ]
        }
      ],
      "source": [
        "# Diferenciação multipla d=2\n",
        "y_diff = y.diff().diff().dropna()\n",
        "\n",
        "# Teste de estacionariedade do preço\n",
        "result = adfuller(y_diff)\n",
        "print(f'p-value: {result[1]}')\n",
        "if result[1] > 0.05:\n",
        "    print('Não estacionária')\n",
        "else:\n",
        "    print('Estacionária')"
      ]
    },
    {
      "cell_type": "code",
      "execution_count": 274,
      "metadata": {
        "colab": {
          "base_uri": "https://localhost:8080/",
          "height": 0
        },
        "id": "2J29twpCy1GR",
        "outputId": "666e0d74-f1ed-4f61-b523-48771ac3e814"
      },
      "outputs": [
        {
          "output_type": "display_data",
          "data": {
            "text/plain": [
              "<Figure size 600x300 with 1 Axes>"
            ],
            "image/png": "[encoded data removed]"
          },
          "metadata": {}
        }
      ],
      "source": [
        "# Plot da série diferenciada d=2\n",
        "plt.figure(figsize=(6, 3))\n",
        "\n",
        "# Plot da segunda série\n",
        "plt.plot(y_diff, marker='o', label='Preço Goiânia R$/m²', color ='grey')\n",
        "\n",
        "# Opções dos eixos\n",
        "plt.ylabel('R$/m²', fontsize=10)\n",
        "plt.yticks(fontsize=10)\n",
        "plt.xticks(fontsize=10)\n",
        "\n",
        "# Legedas\n",
        "plt.legend()\n",
        "\n",
        "# Tirar eixos paralelos\n",
        "ax = plt.gca()\n",
        "ax.spines['top'].set_visible(False)\n",
        "ax.spines['right'].set_visible(False)\n",
        "\n",
        "# Ajustar gráfico\n",
        "plt.tight_layout()\n",
        "plt.show()"
      ]
    },
    {
      "cell_type": "code",
      "execution_count": 275,
      "metadata": {
        "colab": {
          "base_uri": "https://localhost:8080/",
          "height": 0
        },
        "id": "PnE_4Epz0nlo",
        "outputId": "82cd8051-4100-48e0-b23b-e8c95197c02e"
      },
      "outputs": [
        {
          "output_type": "display_data",
          "data": {
            "text/plain": [
              "<Figure size 640x480 with 1 Axes>"
            ],
            "image/png": "[encoded data removed]"
          },
          "metadata": {}
        }
      ],
      "source": [
        "# Autocorrelação\n",
        "plot_acf(y_diff, alpha = 0.05)\n",
        "\n",
        "# Opções dos eixos\n",
        "plt.ylabel('Correlação', fontsize=10)\n",
        "plt.yticks(fontsize=10)\n",
        "plt.xticks(fontsize=10)\n",
        "\n",
        "# Titulo\n",
        "plt.title('')\n",
        "\n",
        "# Tirar eixos paralelos\n",
        "ax = plt.gca()\n",
        "ax.spines['top'].set_visible(False)\n",
        "ax.spines['right'].set_visible(False)"
      ]
    },
    {
      "cell_type": "code",
      "execution_count": 276,
      "metadata": {
        "colab": {
          "base_uri": "https://localhost:8080/",
          "height": 0
        },
        "id": "7lysAv8W_9Ev",
        "outputId": "b77997b6-3c7e-4588-d6c7-f92ddc9f7529"
      },
      "outputs": [
        {
          "output_type": "display_data",
          "data": {
            "text/plain": [
              "<Figure size 640x480 with 1 Axes>"
            ],
            "image/png": "[encoded data removed]"
          },
          "metadata": {}
        }
      ],
      "source": [
        "# Autocorrelação parcial\n",
        "plot_pacf(y_diff, alpha = 0.05)\n",
        "\n",
        "# Opções dos eixos\n",
        "plt.ylabel('Correlação', fontsize=10)\n",
        "plt.yticks(fontsize=10)\n",
        "plt.xticks(fontsize=10)\n",
        "\n",
        "# Titulo\n",
        "plt.title('')\n",
        "\n",
        "# Tirar eixos paralelos\n",
        "ax = plt.gca()\n",
        "ax.spines['top'].set_visible(False)\n",
        "ax.spines['right'].set_visible(False)\n",
        "\n",
        "plt.show()"
      ]
    },
    {
      "cell_type": "markdown",
      "metadata": {
        "id": "BwyX15l7pmbb"
      },
      "source": [
        "## 2.2 Ajustes variaveis independetes\n",
        "Todas as dez variáveis explicativas foram testadas quanto à estacionariedade e precisaram ser diferenciadas antes de sua inclusão no modelo. Algumas variaveis precisaram uma segunda diferenciação.\n",
        "\n",
        "Foram criadas variaveis defasadas 3 períodos e eliminado as variaveis contemporaneas a variavel resposta para não haver dataleakage.\n",
        "\n",
        "Essas variaveis foram padronizadas usando o Z scaler, para os coeficientes poderem ser comparados, já que na forma orginal existe uma grande diferença de escalas.\n",
        "\n",
        "Aqui foi definido o tamanho da amostra de teste (previsão) do modelo: 12 meses\n"
      ]
    },
    {
      "cell_type": "code",
      "execution_count": 277,
      "metadata": {
        "colab": {
          "base_uri": "https://localhost:8080/"
        },
        "id": "ZLQBWZHUqUGQ",
        "outputId": "99a9aade-3072-4374-c885-ca428ee4a739"
      },
      "outputs": [
        {
          "output_type": "stream",
          "name": "stdout",
          "text": [
            "tx_juros: p-value = 0.14998490660175418\n",
            "ipca: p-value = 0.11315675549840526\n",
            "renda_med: p-value = 0.6296463779813326\n",
            "ocupado_rend: p-value = 0.8137847449285941\n",
            "incc: p-value = 0.21389747647989443\n",
            "ic_agro: p-value = 0.9563702022551306\n",
            "inadim_imob: p-value = 0.5071560158076804\n",
            "vol_cred: p-value = 0.6979836820124001\n",
            "sald_cred: p-value = 0.9987630432310369\n"
          ]
        }
      ],
      "source": [
        "# Teste de estacionaridade para cada uma das variaveis\n",
        "for col in X.columns:\n",
        "    result = adfuller(X[col])\n",
        "    print(f'{col}: p-value = {result[1]}')"
      ]
    },
    {
      "cell_type": "code",
      "execution_count": 278,
      "metadata": {
        "colab": {
          "base_uri": "https://localhost:8080/"
        },
        "id": "2CwMeqkdwedr",
        "outputId": "6a9a38e7-706f-4d4f-a3e8-e1eaa51be81b"
      },
      "outputs": [
        {
          "output_type": "stream",
          "name": "stdout",
          "text": [
            "tx_juros: p-value = 0.06966866763262801\n",
            "ipca: p-value = 0.011857680063458177\n",
            "renda_med: p-value = 0.00016455957657795245\n",
            "ocupado_rend: p-value = 0.030405756794609523\n",
            "incc: p-value = 0.004381916362340789\n",
            "ic_agro: p-value = 3.224569435680265e-16\n",
            "inadim_imob: p-value = 2.3806899126309537e-07\n",
            "vol_cred: p-value = 0.1519602745434337\n",
            "sald_cred: p-value = 0.758402015445268\n"
          ]
        }
      ],
      "source": [
        "# Diferenciar todas variaveis p-valor\n",
        "X_copy = X.copy()\n",
        "\n",
        "for col in X_copy.columns:\n",
        "    X_copy[col] = X_copy[col].diff()\n",
        "\n",
        "# Eliminar NaN\n",
        "X_copy.dropna(inplace=True)\n",
        "\n",
        "# Printar p-value ADF\n",
        "for col in X_copy.columns:\n",
        "    result = adfuller(X_copy[col])\n",
        "    print(f'{col}: p-value = {result[1]}')\n"
      ]
    },
    {
      "cell_type": "code",
      "execution_count": 279,
      "metadata": {
        "colab": {
          "base_uri": "https://localhost:8080/"
        },
        "id": "5ExSBlI94Jck",
        "outputId": "10321fba-8f69-46d3-bc22-e1f2d1f3d8e7"
      },
      "outputs": [
        {
          "output_type": "stream",
          "name": "stdout",
          "text": [
            "tx_juros: p-value = 0.0012499029416097108\n",
            "ipca: p-value = 0.01029989264953793\n",
            "renda_med: p-value = 0.0002615694026597388\n",
            "ocupado_rend: p-value = 0.03065757787607261\n",
            "incc: p-value = 0.0048215899000907565\n",
            "ic_agro: p-value = 4.1485159783496053e-16\n",
            "inadim_imob: p-value = 4.022887989093997e-07\n",
            "vol_cred: p-value = 1.1881083198127637e-10\n",
            "sald_cred: p-value = 0.1929213697594529\n"
          ]
        }
      ],
      "source": [
        "# Diferenciar novamente variaveis que nao passaram no ADF\n",
        "X_copy['tx_juros'] = X_copy['tx_juros'].diff()\n",
        "X_copy['vol_cred'] = X_copy['vol_cred'].diff()\n",
        "X_copy['sald_cred'] = X_copy['sald_cred'].diff()\n",
        "\n",
        "# Eliminar NaN\n",
        "X_copy.dropna(inplace=True)\n",
        "\n",
        "# Printar p-value ADF\n",
        "for col in X_copy.columns:\n",
        "    result = adfuller(X_copy[col])\n",
        "    print(f'{col}: p-value = {result[1]}')"
      ]
    },
    {
      "cell_type": "code",
      "execution_count": 280,
      "metadata": {
        "id": "5UAmLNlbmJDF"
      },
      "outputs": [],
      "source": [
        "# Criar variaveis com lag\n",
        "\n",
        "# Número de lags\n",
        "lags = 3  # Lag\n",
        "\n",
        "# Lag features\n",
        "for col in X_copy.columns.tolist():\n",
        "    for lag in range(1, lags + 1):\n",
        "        X_copy[f'{col}_lag_{lag}'] = X_copy[col].shift(lag)\n",
        "\n",
        "# Remover linhas com NaN (criadas pelos lags)\n",
        "X_copy = X_copy.dropna()\n",
        "\n",
        "# Excluir features no lag=0 - Evitar dataleakage\n",
        "X_copy = X_copy.drop(columns=X.columns.tolist())"
      ]
    },
    {
      "cell_type": "code",
      "execution_count": 281,
      "metadata": {
        "colab": {
          "base_uri": "https://localhost:8080/",
          "height": 617
        },
        "id": "DJPLJh6M0sZv",
        "outputId": "eaa0f328-d081-4642-8039-6436090fd5a4"
      },
      "outputs": [
        {
          "output_type": "execute_result",
          "data": {
            "text/plain": [
              "            tx_juros_lag_1  tx_juros_lag_2  tx_juros_lag_3  ipca_lag_1  \\\n",
              "date                                                                     \n",
              "2024-09-01       -0.060767       -0.155661        0.212600   -0.471650   \n",
              "2024-10-01       -0.060767       -0.060584       -0.155853    0.361722   \n",
              "2024-11-01        0.818740       -0.060584       -0.060768    0.633846   \n",
              "2024-12-01       -0.060767        0.818874       -0.060768    0.227297   \n",
              "2025-01-01       -0.464864       -0.060584        0.818765   -0.064201   \n",
              "2025-02-01        1.484313       -0.464660       -0.060768   -0.491704   \n",
              "2025-03-01       -0.845192        1.484409       -0.464878    0.939803   \n",
              "2025-04-01        0.081856       -0.844966        1.484357    0.794272   \n",
              "2025-05-01       -0.488635        0.082030       -0.845217    0.111215   \n",
              "2025-06-01       -0.298471       -0.488429        0.081859   -0.377566   \n",
              "\n",
              "            ipca_lag_2  ipca_lag_3  renda_med_lag_1  renda_med_lag_2  \\\n",
              "date                                                                   \n",
              "2024-09-01    0.512619    0.562726         0.760734        -0.828659   \n",
              "2024-10-01   -0.476512    0.505257        -0.534499         0.766444   \n",
              "2024-11-01    0.357121   -0.481001         0.611284        -0.529577   \n",
              "2024-12-01    0.629331    0.350211         0.511651         0.616903   \n",
              "2025-01-01    0.222654    0.621630         0.760734         0.517209   \n",
              "2025-02-01   -0.068935    0.216135         0.910184         0.766444   \n",
              "2025-03-01   -0.496572   -0.074608         0.710918         0.915984   \n",
              "2025-04-01    0.935384   -0.501003         0.511651         0.716597   \n",
              "2025-05-01    0.789807    0.926794        -0.883216         0.517209   \n",
              "2025-06-01    0.106536    0.781640         0.461834        -0.878506   \n",
              "\n",
              "            renda_med_lag_3  ocupado_rend_lag_1  ...  ic_agro_lag_3  \\\n",
              "date                                             ...                  \n",
              "2024-09-01         0.937944            0.565930  ...       2.157166   \n",
              "2024-10-01        -0.841325            0.636954  ...       0.420472   \n",
              "2024-11-01         0.740247            0.718335  ...      -1.287856   \n",
              "2024-12-01        -0.544780            0.358778  ...       0.961245   \n",
              "2025-01-01         0.591975           -0.281914  ...       1.272349   \n",
              "2025-02-01         0.493127           -1.387219  ...       2.094030   \n",
              "2025-03-01         0.740247           -0.594122  ...       3.504979   \n",
              "2025-04-01         0.888520           -0.252321  ...       0.331716   \n",
              "2025-05-01         0.690823            0.986153  ...      -2.745471   \n",
              "2025-06-01         0.493127            0.770123  ...      -2.548743   \n",
              "\n",
              "            inadim_imob_lag_1  inadim_imob_lag_2  inadim_imob_lag_3  \\\n",
              "date                                                                  \n",
              "2024-09-01          -0.003610          -0.259130          -0.694487   \n",
              "2024-10-01          -0.294439          -0.009209          -0.258039   \n",
              "2024-11-01          -0.050043          -0.299332          -0.008091   \n",
              "2024-12-01           0.181047          -0.055529          -0.298245   \n",
              "2025-01-01          -0.983485           0.175001          -0.054415   \n",
              "2025-02-01           0.293618          -0.986704           0.176139   \n",
              "2025-03-01           0.169024           0.287298          -0.985693   \n",
              "2025-04-01           0.352449           0.163006           0.288448   \n",
              "2025-05-01           0.177369           0.345986           0.164143   \n",
              "2025-06-01           0.062482           0.171331           0.347143   \n",
              "\n",
              "            vol_cred_lag_1  vol_cred_lag_2  vol_cred_lag_3  sald_cred_lag_1  \\\n",
              "date                                                                          \n",
              "2024-09-01       -0.064813        0.266424       -0.997711         0.041146   \n",
              "2024-10-01       -0.518978       -0.070430        0.280502         0.065432   \n",
              "2024-11-01       -0.070725       -0.524905       -0.054178        -0.584021   \n",
              "2024-12-01       -0.311022       -0.076346       -0.505719        -0.138909   \n",
              "2025-01-01        1.082772       -0.316807       -0.060055        -0.580671   \n",
              "2025-02-01       -1.051040        1.077936       -0.298964        -0.364186   \n",
              "2025-03-01        1.262560       -1.057329        1.086775         0.773926   \n",
              "2025-04-01       -0.646951        1.257847       -1.034706         0.466159   \n",
              "2025-05-01        0.644603       -0.652965        1.265525        -0.128022   \n",
              "2025-06-01       -0.489767        0.639469       -0.632952         0.343470   \n",
              "\n",
              "            sald_cred_lag_2  sald_cred_lag_3  \n",
              "date                                          \n",
              "2024-09-01         0.404132        -0.447783  \n",
              "2024-10-01         0.041854         0.402885  \n",
              "2024-11-01         0.066145         0.040587  \n",
              "2024-12-01        -0.583443         0.064880  \n",
              "2025-01-01        -0.138239        -0.584744  \n",
              "2025-02-01        -0.580092        -0.139515  \n",
              "2025-03-01        -0.363563        -0.581394  \n",
              "2025-04-01         0.774786        -0.364852  \n",
              "2025-05-01         0.466955         0.773560  \n",
              "2025-06-01        -0.127349         0.465711  \n",
              "\n",
              "[10 rows x 27 columns]"
            ],
            "text/html": [
              "\n",
              "  <div id=\"df-ea7ec378-0c58-493a-9ca9-900149f9df44\" class=\"colab-df-container\">\n",
              "    <div>\n",
              "<style scoped>\n",
              "    .dataframe tbody tr th:only-of-type {\n",
              "        vertical-align: middle;\n",
              "    }\n",
              "\n",
              "    .dataframe tbody tr th {\n",
              "        vertical-align: top;\n",
              "    }\n",
              "\n",
              "    .dataframe thead th {\n",
              "        text-align: right;\n",
              "    }\n",
              "</style>\n",
              "<table border=\"1\" class=\"dataframe\">\n",
              "  <thead>\n",
              "    <tr style=\"text-align: right;\">\n",
              "      <th></th>\n",
              "      <th>tx_juros_lag_1</th>\n",
              "      <th>tx_juros_lag_2</th>\n",
              "      <th>tx_juros_lag_3</th>\n",
              "      <th>ipca_lag_1</th>\n",
              "      <th>ipca_lag_2</th>\n",
              "      <th>ipca_lag_3</th>\n",
              "      <th>renda_med_lag_1</th>\n",
              "      <th>renda_med_lag_2</th>\n",
              "      <th>renda_med_lag_3</th>\n",
              "      <th>ocupado_rend_lag_1</th>\n",
              "      <th>...</th>\n",
              "      <th>ic_agro_lag_3</th>\n",
              "      <th>inadim_imob_lag_1</th>\n",
              "      <th>inadim_imob_lag_2</th>\n",
              "      <th>inadim_imob_lag_3</th>\n",
              "      <th>vol_cred_lag_1</th>\n",
              "      <th>vol_cred_lag_2</th>\n",
              "      <th>vol_cred_lag_3</th>\n",
              "      <th>sald_cred_lag_1</th>\n",
              "      <th>sald_cred_lag_2</th>\n",
              "      <th>sald_cred_lag_3</th>\n",
              "    </tr>\n",
              "    <tr>\n",
              "      <th>date</th>\n",
              "      <th></th>\n",
              "      <th></th>\n",
              "      <th></th>\n",
              "      <th></th>\n",
              "      <th></th>\n",
              "      <th></th>\n",
              "      <th></th>\n",
              "      <th></th>\n",
              "      <th></th>\n",
              "      <th></th>\n",
              "      <th></th>\n",
              "      <th></th>\n",
              "      <th></th>\n",
              "      <th></th>\n",
              "      <th></th>\n",
              "      <th></th>\n",
              "      <th></th>\n",
              "      <th></th>\n",
              "      <th></th>\n",
              "      <th></th>\n",
              "      <th></th>\n",
              "    </tr>\n",
              "  </thead>\n",
              "  <tbody>\n",
              "    <tr>\n",
              "      <th>2024-09-01</th>\n",
              "      <td>-0.060767</td>\n",
              "      <td>-0.155661</td>\n",
              "      <td>0.212600</td>\n",
              "      <td>-0.471650</td>\n",
              "      <td>0.512619</td>\n",
              "      <td>0.562726</td>\n",
              "      <td>0.760734</td>\n",
              "      <td>-0.828659</td>\n",
              "      <td>0.937944</td>\n",
              "      <td>0.565930</td>\n",
              "      <td>...</td>\n",
              "      <td>2.157166</td>\n",
              "      <td>-0.003610</td>\n",
              "      <td>-0.259130</td>\n",
              "      <td>-0.694487</td>\n",
              "      <td>-0.064813</td>\n",
              "      <td>0.266424</td>\n",
              "      <td>-0.997711</td>\n",
              "      <td>0.041146</td>\n",
              "      <td>0.404132</td>\n",
              "      <td>-0.447783</td>\n",
              "    </tr>\n",
              "    <tr>\n",
              "      <th>2024-10-01</th>\n",
              "      <td>-0.060767</td>\n",
              "      <td>-0.060584</td>\n",
              "      <td>-0.155853</td>\n",
              "      <td>0.361722</td>\n",
              "      <td>-0.476512</td>\n",
              "      <td>0.505257</td>\n",
              "      <td>-0.534499</td>\n",
              "      <td>0.766444</td>\n",
              "      <td>-0.841325</td>\n",
              "      <td>0.636954</td>\n",
              "      <td>...</td>\n",
              "      <td>0.420472</td>\n",
              "      <td>-0.294439</td>\n",
              "      <td>-0.009209</td>\n",
              "      <td>-0.258039</td>\n",
              "      <td>-0.518978</td>\n",
              "      <td>-0.070430</td>\n",
              "      <td>0.280502</td>\n",
              "      <td>0.065432</td>\n",
              "      <td>0.041854</td>\n",
              "      <td>0.402885</td>\n",
              "    </tr>\n",
              "    <tr>\n",
              "      <th>2024-11-01</th>\n",
              "      <td>0.818740</td>\n",
              "      <td>-0.060584</td>\n",
              "      <td>-0.060768</td>\n",
              "      <td>0.633846</td>\n",
              "      <td>0.357121</td>\n",
              "      <td>-0.481001</td>\n",
              "      <td>0.611284</td>\n",
              "      <td>-0.529577</td>\n",
              "      <td>0.740247</td>\n",
              "      <td>0.718335</td>\n",
              "      <td>...</td>\n",
              "      <td>-1.287856</td>\n",
              "      <td>-0.050043</td>\n",
              "      <td>-0.299332</td>\n",
              "      <td>-0.008091</td>\n",
              "      <td>-0.070725</td>\n",
              "      <td>-0.524905</td>\n",
              "      <td>-0.054178</td>\n",
              "      <td>-0.584021</td>\n",
              "      <td>0.066145</td>\n",
              "      <td>0.040587</td>\n",
              "    </tr>\n",
              "    <tr>\n",
              "      <th>2024-12-01</th>\n",
              "      <td>-0.060767</td>\n",
              "      <td>0.818874</td>\n",
              "      <td>-0.060768</td>\n",
              "      <td>0.227297</td>\n",
              "      <td>0.629331</td>\n",
              "      <td>0.350211</td>\n",
              "      <td>0.511651</td>\n",
              "      <td>0.616903</td>\n",
              "      <td>-0.544780</td>\n",
              "      <td>0.358778</td>\n",
              "      <td>...</td>\n",
              "      <td>0.961245</td>\n",
              "      <td>0.181047</td>\n",
              "      <td>-0.055529</td>\n",
              "      <td>-0.298245</td>\n",
              "      <td>-0.311022</td>\n",
              "      <td>-0.076346</td>\n",
              "      <td>-0.505719</td>\n",
              "      <td>-0.138909</td>\n",
              "      <td>-0.583443</td>\n",
              "      <td>0.064880</td>\n",
              "    </tr>\n",
              "    <tr>\n",
              "      <th>2025-01-01</th>\n",
              "      <td>-0.464864</td>\n",
              "      <td>-0.060584</td>\n",
              "      <td>0.818765</td>\n",
              "      <td>-0.064201</td>\n",
              "      <td>0.222654</td>\n",
              "      <td>0.621630</td>\n",
              "      <td>0.760734</td>\n",
              "      <td>0.517209</td>\n",
              "      <td>0.591975</td>\n",
              "      <td>-0.281914</td>\n",
              "      <td>...</td>\n",
              "      <td>1.272349</td>\n",
              "      <td>-0.983485</td>\n",
              "      <td>0.175001</td>\n",
              "      <td>-0.054415</td>\n",
              "      <td>1.082772</td>\n",
              "      <td>-0.316807</td>\n",
              "      <td>-0.060055</td>\n",
              "      <td>-0.580671</td>\n",
              "      <td>-0.138239</td>\n",
              "      <td>-0.584744</td>\n",
              "    </tr>\n",
              "    <tr>\n",
              "      <th>2025-02-01</th>\n",
              "      <td>1.484313</td>\n",
              "      <td>-0.464660</td>\n",
              "      <td>-0.060768</td>\n",
              "      <td>-0.491704</td>\n",
              "      <td>-0.068935</td>\n",
              "      <td>0.216135</td>\n",
              "      <td>0.910184</td>\n",
              "      <td>0.766444</td>\n",
              "      <td>0.493127</td>\n",
              "      <td>-1.387219</td>\n",
              "      <td>...</td>\n",
              "      <td>2.094030</td>\n",
              "      <td>0.293618</td>\n",
              "      <td>-0.986704</td>\n",
              "      <td>0.176139</td>\n",
              "      <td>-1.051040</td>\n",
              "      <td>1.077936</td>\n",
              "      <td>-0.298964</td>\n",
              "      <td>-0.364186</td>\n",
              "      <td>-0.580092</td>\n",
              "      <td>-0.139515</td>\n",
              "    </tr>\n",
              "    <tr>\n",
              "      <th>2025-03-01</th>\n",
              "      <td>-0.845192</td>\n",
              "      <td>1.484409</td>\n",
              "      <td>-0.464878</td>\n",
              "      <td>0.939803</td>\n",
              "      <td>-0.496572</td>\n",
              "      <td>-0.074608</td>\n",
              "      <td>0.710918</td>\n",
              "      <td>0.915984</td>\n",
              "      <td>0.740247</td>\n",
              "      <td>-0.594122</td>\n",
              "      <td>...</td>\n",
              "      <td>3.504979</td>\n",
              "      <td>0.169024</td>\n",
              "      <td>0.287298</td>\n",
              "      <td>-0.985693</td>\n",
              "      <td>1.262560</td>\n",
              "      <td>-1.057329</td>\n",
              "      <td>1.086775</td>\n",
              "      <td>0.773926</td>\n",
              "      <td>-0.363563</td>\n",
              "      <td>-0.581394</td>\n",
              "    </tr>\n",
              "    <tr>\n",
              "      <th>2025-04-01</th>\n",
              "      <td>0.081856</td>\n",
              "      <td>-0.844966</td>\n",
              "      <td>1.484357</td>\n",
              "      <td>0.794272</td>\n",
              "      <td>0.935384</td>\n",
              "      <td>-0.501003</td>\n",
              "      <td>0.511651</td>\n",
              "      <td>0.716597</td>\n",
              "      <td>0.888520</td>\n",
              "      <td>-0.252321</td>\n",
              "      <td>...</td>\n",
              "      <td>0.331716</td>\n",
              "      <td>0.352449</td>\n",
              "      <td>0.163006</td>\n",
              "      <td>0.288448</td>\n",
              "      <td>-0.646951</td>\n",
              "      <td>1.257847</td>\n",
              "      <td>-1.034706</td>\n",
              "      <td>0.466159</td>\n",
              "      <td>0.774786</td>\n",
              "      <td>-0.364852</td>\n",
              "    </tr>\n",
              "    <tr>\n",
              "      <th>2025-05-01</th>\n",
              "      <td>-0.488635</td>\n",
              "      <td>0.082030</td>\n",
              "      <td>-0.845217</td>\n",
              "      <td>0.111215</td>\n",
              "      <td>0.789807</td>\n",
              "      <td>0.926794</td>\n",
              "      <td>-0.883216</td>\n",
              "      <td>0.517209</td>\n",
              "      <td>0.690823</td>\n",
              "      <td>0.986153</td>\n",
              "      <td>...</td>\n",
              "      <td>-2.745471</td>\n",
              "      <td>0.177369</td>\n",
              "      <td>0.345986</td>\n",
              "      <td>0.164143</td>\n",
              "      <td>0.644603</td>\n",
              "      <td>-0.652965</td>\n",
              "      <td>1.265525</td>\n",
              "      <td>-0.128022</td>\n",
              "      <td>0.466955</td>\n",
              "      <td>0.773560</td>\n",
              "    </tr>\n",
              "    <tr>\n",
              "      <th>2025-06-01</th>\n",
              "      <td>-0.298471</td>\n",
              "      <td>-0.488429</td>\n",
              "      <td>0.081859</td>\n",
              "      <td>-0.377566</td>\n",
              "      <td>0.106536</td>\n",
              "      <td>0.781640</td>\n",
              "      <td>0.461834</td>\n",
              "      <td>-0.878506</td>\n",
              "      <td>0.493127</td>\n",
              "      <td>0.770123</td>\n",
              "      <td>...</td>\n",
              "      <td>-2.548743</td>\n",
              "      <td>0.062482</td>\n",
              "      <td>0.171331</td>\n",
              "      <td>0.347143</td>\n",
              "      <td>-0.489767</td>\n",
              "      <td>0.639469</td>\n",
              "      <td>-0.632952</td>\n",
              "      <td>0.343470</td>\n",
              "      <td>-0.127349</td>\n",
              "      <td>0.465711</td>\n",
              "    </tr>\n",
              "  </tbody>\n",
              "</table>\n",
              "<p>10 rows × 27 columns</p>\n",
              "</div>\n",
              "    <div class=\"colab-df-buttons\">\n",
              "\n",
              "  <div class=\"colab-df-container\">\n",
              "    <button class=\"colab-df-convert\" onclick=\"convertToInteractive('df-ea7ec378-0c58-493a-9ca9-900149f9df44')\"\n",
              "            title=\"Convert this dataframe to an interactive table.\"\n",
              "            style=\"display:none;\">\n",
              "\n",
              "  <svg xmlns=\"http://www.w3.org/2000/svg\" height=\"24px\" viewBox=\"0 -960 960 960\">\n",
              "    <path d=\"M120-120v-720h720v720H120Zm60-500h600v-160H180v160Zm220 220h160v-160H400v160Zm0 220h160v-160H400v160ZM180-400h160v-160H180v160Zm440 0h160v-160H620v160ZM180-180h160v-160H180v160Zm440 0h160v-160H620v160Z\"/>\n",
              "  </svg>\n",
              "    </button>\n",
              "\n",
              "  <style>\n",
              "    .colab-df-container {\n",
              "      display:flex;\n",
              "      gap: 12px;\n",
              "    }\n",
              "\n",
              "    .colab-df-convert {\n",
              "      background-color: #E8F0FE;\n",
              "      border: none;\n",
              "      border-radius: 50%;\n",
              "      cursor: pointer;\n",
              "      display: none;\n",
              "      fill: #1967D2;\n",
              "      height: 32px;\n",
              "      padding: 0 0 0 0;\n",
              "      width: 32px;\n",
              "    }\n",
              "\n",
              "    .colab-df-convert:hover {\n",
              "      background-color: #E2EBFA;\n",
              "      box-shadow: 0px 1px 2px rgba(60, 64, 67, 0.3), 0px 1px 3px 1px rgba(60, 64, 67, 0.15);\n",
              "      fill: #174EA6;\n",
              "    }\n",
              "\n",
              "    .colab-df-buttons div {\n",
              "      margin-bottom: 4px;\n",
              "    }\n",
              "\n",
              "    [theme=dark] .colab-df-convert {\n",
              "      background-color: #3B4455;\n",
              "      fill: #D2E3FC;\n",
              "    }\n",
              "\n",
              "    [theme=dark] .colab-df-convert:hover {\n",
              "      background-color: #434B5C;\n",
              "      box-shadow: 0px 1px 3px 1px rgba(0, 0, 0, 0.15);\n",
              "      filter: drop-shadow(0px 1px 2px rgba(0, 0, 0, 0.3));\n",
              "      fill: #FFFFFF;\n",
              "    }\n",
              "  </style>\n",
              "\n",
              "    <script>\n",
              "      const buttonEl =\n",
              "        document.querySelector('#df-ea7ec378-0c58-493a-9ca9-900149f9df44 button.colab-df-convert');\n",
              "      buttonEl.style.display =\n",
              "        google.colab.kernel.accessAllowed ? 'block' : 'none';\n",
              "\n",
              "      async function convertToInteractive(key) {\n",
              "        const element = document.querySelector('#df-ea7ec378-0c58-493a-9ca9-900149f9df44');\n",
              "        const dataTable =\n",
              "          await google.colab.kernel.invokeFunction('convertToInteractive',\n",
              "                                                    [key], {});\n",
              "        if (!dataTable) return;\n",
              "\n",
              "        const docLinkHtml = 'Like what you see? Visit the ' +\n",
              "          '<a target=\"_blank\" href=https://colab.research.google.com/notebooks/data_table.ipynb>data table notebook</a>'\n",
              "          + ' to learn more about interactive tables.';\n",
              "        element.innerHTML = '';\n",
              "        dataTable['output_type'] = 'display_data';\n",
              "        await google.colab.output.renderOutput(dataTable, element);\n",
              "        const docLink = document.createElement('div');\n",
              "        docLink.innerHTML = docLinkHtml;\n",
              "        element.appendChild(docLink);\n",
              "      }\n",
              "    </script>\n",
              "  </div>\n",
              "\n",
              "\n",
              "    <div id=\"df-5d225a5e-91e4-4741-bd57-489a3c943696\">\n",
              "      <button class=\"colab-df-quickchart\" onclick=\"quickchart('df-5d225a5e-91e4-4741-bd57-489a3c943696')\"\n",
              "                title=\"Suggest charts\"\n",
              "                style=\"display:none;\">\n",
              "\n",
              "<svg xmlns=\"http://www.w3.org/2000/svg\" height=\"24px\"viewBox=\"0 0 24 24\"\n",
              "     width=\"24px\">\n",
              "    <g>\n",
              "        <path d=\"M19 3H5c-1.1 0-2 .9-2 2v14c0 1.1.9 2 2 2h14c1.1 0 2-.9 2-2V5c0-1.1-.9-2-2-2zM9 17H7v-7h2v7zm4 0h-2V7h2v10zm4 0h-2v-4h2v4z\"/>\n",
              "    </g>\n",
              "</svg>\n",
              "      </button>\n",
              "\n",
              "<style>\n",
              "  .colab-df-quickchart {\n",
              "      --bg-color: #E8F0FE;\n",
              "      --fill-color: #1967D2;\n",
              "      --hover-bg-color: #E2EBFA;\n",
              "      --hover-fill-color: #174EA6;\n",
              "      --disabled-fill-color: #AAA;\n",
              "      --disabled-bg-color: #DDD;\n",
              "  }\n",
              "\n",
              "  [theme=dark] .colab-df-quickchart {\n",
              "      --bg-color: #3B4455;\n",
              "      --fill-color: #D2E3FC;\n",
              "      --hover-bg-color: #434B5C;\n",
              "      --hover-fill-color: #FFFFFF;\n",
              "      --disabled-bg-color: #3B4455;\n",
              "      --disabled-fill-color: #666;\n",
              "  }\n",
              "\n",
              "  .colab-df-quickchart {\n",
              "    background-color: var(--bg-color);\n",
              "    border: none;\n",
              "    border-radius: 50%;\n",
              "    cursor: pointer;\n",
              "    display: none;\n",
              "    fill: var(--fill-color);\n",
              "    height: 32px;\n",
              "    padding: 0;\n",
              "    width: 32px;\n",
              "  }\n",
              "\n",
              "  .colab-df-quickchart:hover {\n",
              "    background-color: var(--hover-bg-color);\n",
              "    box-shadow: 0 1px 2px rgba(60, 64, 67, 0.3), 0 1px 3px 1px rgba(60, 64, 67, 0.15);\n",
              "    fill: var(--button-hover-fill-color);\n",
              "  }\n",
              "\n",
              "  .colab-df-quickchart-complete:disabled,\n",
              "  .colab-df-quickchart-complete:disabled:hover {\n",
              "    background-color: var(--disabled-bg-color);\n",
              "    fill: var(--disabled-fill-color);\n",
              "    box-shadow: none;\n",
              "  }\n",
              "\n",
              "  .colab-df-spinner {\n",
              "    border: 2px solid var(--fill-color);\n",
              "    border-color: transparent;\n",
              "    border-bottom-color: var(--fill-color);\n",
              "    animation:\n",
              "      spin 1s steps(1) infinite;\n",
              "  }\n",
              "\n",
              "  @keyframes spin {\n",
              "    0% {\n",
              "      border-color: transparent;\n",
              "      border-bottom-color: var(--fill-color);\n",
              "      border-left-color: var(--fill-color);\n",
              "    }\n",
              "    20% {\n",
              "      border-color: transparent;\n",
              "      border-left-color: var(--fill-color);\n",
              "      border-top-color: var(--fill-color);\n",
              "    }\n",
              "    30% {\n",
              "      border-color: transparent;\n",
              "      border-left-color: var(--fill-color);\n",
              "      border-top-color: var(--fill-color);\n",
              "      border-right-color: var(--fill-color);\n",
              "    }\n",
              "    40% {\n",
              "      border-color: transparent;\n",
              "      border-right-color: var(--fill-color);\n",
              "      border-top-color: var(--fill-color);\n",
              "    }\n",
              "    60% {\n",
              "      border-color: transparent;\n",
              "      border-right-color: var(--fill-color);\n",
              "    }\n",
              "    80% {\n",
              "      border-color: transparent;\n",
              "      border-right-color: var(--fill-color);\n",
              "      border-bottom-color: var(--fill-color);\n",
              "    }\n",
              "    90% {\n",
              "      border-color: transparent;\n",
              "      border-bottom-color: var(--fill-color);\n",
              "    }\n",
              "  }\n",
              "</style>\n",
              "\n",
              "      <script>\n",
              "        async function quickchart(key) {\n",
              "          const quickchartButtonEl =\n",
              "            document.querySelector('#' + key + ' button');\n",
              "          quickchartButtonEl.disabled = true;  // To prevent multiple clicks.\n",
              "          quickchartButtonEl.classList.add('colab-df-spinner');\n",
              "          try {\n",
              "            const charts = await google.colab.kernel.invokeFunction(\n",
              "                'suggestCharts', [key], {});\n",
              "          } catch (error) {\n",
              "            console.error('Error during call to suggestCharts:', error);\n",
              "          }\n",
              "          quickchartButtonEl.classList.remove('colab-df-spinner');\n",
              "          quickchartButtonEl.classList.add('colab-df-quickchart-complete');\n",
              "        }\n",
              "        (() => {\n",
              "          let quickchartButtonEl =\n",
              "            document.querySelector('#df-5d225a5e-91e4-4741-bd57-489a3c943696 button');\n",
              "          quickchartButtonEl.style.display =\n",
              "            google.colab.kernel.accessAllowed ? 'block' : 'none';\n",
              "        })();\n",
              "      </script>\n",
              "    </div>\n",
              "\n",
              "    </div>\n",
              "  </div>\n"
            ],
            "application/vnd.google.colaboratory.intrinsic+json": {
              "type": "dataframe"
            }
          },
          "metadata": {},
          "execution_count": 281
        }
      ],
      "source": [
        "# Padronizar variaveis X\n",
        "scaler = StandardScaler()\n",
        "X_scaled = scaler.fit_transform(X_copy)\n",
        "X_scaled\n",
        "\n",
        "# Manter nomes originais\n",
        "X_scaled = pd.DataFrame(X_scaled, columns=X_copy.columns, index=X_copy.index)\n",
        "X_scaled.tail(10)"
      ]
    },
    {
      "cell_type": "code",
      "execution_count": 281,
      "metadata": {
        "id": "EWpEOoG3aAbT"
      },
      "outputs": [],
      "source": []
    },
    {
      "cell_type": "code",
      "source": [],
      "metadata": {
        "id": "HlO_82IMjNap"
      },
      "execution_count": 281,
      "outputs": []
    },
    {
      "cell_type": "code",
      "source": [
        "print(y_diff.shape, X_scaled.shape)"
      ],
      "metadata": {
        "colab": {
          "base_uri": "https://localhost:8080/"
        },
        "id": "GS-f5_ZgkksG",
        "outputId": "e8419577-f63f-4ee4-d1f0-04b1a3dfb503"
      },
      "execution_count": 282,
      "outputs": [
        {
          "output_type": "stream",
          "name": "stdout",
          "text": [
            "(136,) (133, 27)\n"
          ]
        }
      ]
    },
    {
      "cell_type": "markdown",
      "metadata": {
        "id": "J08yFjB3_lZV"
      },
      "source": [
        "## 2.3 Modelo Inicial\n",
        "Seguindo os parâmetros sugeridos pela analisa temporal da variavel independete.\n",
        "\n"
      ]
    },
    {
      "cell_type": "code",
      "source": [
        "# Tamanho da previsão\n",
        "test_size = 12\n",
        "\n",
        "# Ajuste do tabalho do teste\n",
        "train_size = len(X_scaled)-test_size"
      ],
      "metadata": {
        "id": "0XMdarYa4yc8"
      },
      "execution_count": 283,
      "outputs": []
    },
    {
      "cell_type": "code",
      "source": [
        "# Igualar tamanhos\n",
        "ajuste = 5\n",
        "y_diff = y.iloc[ajuste:]\n",
        "y_diff"
      ],
      "metadata": {
        "id": "Tred0E8940-g",
        "colab": {
          "base_uri": "https://localhost:8080/",
          "height": 490
        },
        "outputId": "cd313310-1725-4348-ab2a-8ef984df2f6e"
      },
      "execution_count": 284,
      "outputs": [
        {
          "output_type": "execute_result",
          "data": {
            "text/plain": [
              "date\n",
              "2014-06-01    3878.864958\n",
              "2014-07-01    3921.615472\n",
              "2014-08-01    3988.293665\n",
              "2014-09-01    4027.250054\n",
              "2014-10-01    4067.136438\n",
              "                 ...     \n",
              "2025-02-01    7974.000000\n",
              "2025-03-01    7982.000000\n",
              "2025-04-01    7936.000000\n",
              "2025-05-01    7905.000000\n",
              "2025-06-01    7886.000000\n",
              "Name: go_price, Length: 133, dtype: float64"
            ],
            "text/html": [
              "<div>\n",
              "<style scoped>\n",
              "    .dataframe tbody tr th:only-of-type {\n",
              "        vertical-align: middle;\n",
              "    }\n",
              "\n",
              "    .dataframe tbody tr th {\n",
              "        vertical-align: top;\n",
              "    }\n",
              "\n",
              "    .dataframe thead th {\n",
              "        text-align: right;\n",
              "    }\n",
              "</style>\n",
              "<table border=\"1\" class=\"dataframe\">\n",
              "  <thead>\n",
              "    <tr style=\"text-align: right;\">\n",
              "      <th></th>\n",
              "      <th>go_price</th>\n",
              "    </tr>\n",
              "    <tr>\n",
              "      <th>date</th>\n",
              "      <th></th>\n",
              "    </tr>\n",
              "  </thead>\n",
              "  <tbody>\n",
              "    <tr>\n",
              "      <th>2014-06-01</th>\n",
              "      <td>3878.864958</td>\n",
              "    </tr>\n",
              "    <tr>\n",
              "      <th>2014-07-01</th>\n",
              "      <td>3921.615472</td>\n",
              "    </tr>\n",
              "    <tr>\n",
              "      <th>2014-08-01</th>\n",
              "      <td>3988.293665</td>\n",
              "    </tr>\n",
              "    <tr>\n",
              "      <th>2014-09-01</th>\n",
              "      <td>4027.250054</td>\n",
              "    </tr>\n",
              "    <tr>\n",
              "      <th>2014-10-01</th>\n",
              "      <td>4067.136438</td>\n",
              "    </tr>\n",
              "    <tr>\n",
              "      <th>...</th>\n",
              "      <td>...</td>\n",
              "    </tr>\n",
              "    <tr>\n",
              "      <th>2025-02-01</th>\n",
              "      <td>7974.000000</td>\n",
              "    </tr>\n",
              "    <tr>\n",
              "      <th>2025-03-01</th>\n",
              "      <td>7982.000000</td>\n",
              "    </tr>\n",
              "    <tr>\n",
              "      <th>2025-04-01</th>\n",
              "      <td>7936.000000</td>\n",
              "    </tr>\n",
              "    <tr>\n",
              "      <th>2025-05-01</th>\n",
              "      <td>7905.000000</td>\n",
              "    </tr>\n",
              "    <tr>\n",
              "      <th>2025-06-01</th>\n",
              "      <td>7886.000000</td>\n",
              "    </tr>\n",
              "  </tbody>\n",
              "</table>\n",
              "<p>133 rows × 1 columns</p>\n",
              "</div><br><label><b>dtype:</b> float64</label>"
            ]
          },
          "metadata": {},
          "execution_count": 284
        }
      ]
    },
    {
      "cell_type": "code",
      "execution_count": 285,
      "metadata": {
        "id": "naAlnOzErdYF"
      },
      "outputs": [],
      "source": [
        "# Dividir em teste e treino\n",
        "X_train, X_test = X_scaled.iloc[:-test_size], X_scaled.iloc[-test_size:]\n",
        "y_train, y_test = y_diff.iloc[:-test_size], y_diff.iloc[-test_size:]"
      ]
    },
    {
      "cell_type": "code",
      "execution_count": 286,
      "metadata": {
        "colab": {
          "base_uri": "https://localhost:8080/"
        },
        "id": "1W4L_4nlxNFf",
        "outputId": "764cadc1-1066-4933-c1ec-6b7d22e72b21"
      },
      "outputs": [
        {
          "output_type": "stream",
          "name": "stdout",
          "text": [
            "                                      SARIMAX Results                                       \n",
            "============================================================================================\n",
            "Dep. Variable:                             go_price   No. Observations:                  121\n",
            "Model:             SARIMAX(2, 2, 2)x(1, 2, [1], 12)   Log Likelihood                -427.928\n",
            "Date:                              Sun, 07 Sep 2025   AIC                            923.857\n",
            "Time:                                      20:27:44   BIC                           1010.689\n",
            "Sample:                                  06-01-2014   HQIC                           958.943\n",
            "                                       - 06-01-2024                                         \n",
            "Covariance Type:                                opg                                         \n",
            "======================================================================================\n",
            "                         coef    std err          z      P>|z|      [0.025      0.975]\n",
            "--------------------------------------------------------------------------------------\n",
            "tx_juros_lag_1         1.0160      2.237      0.454      0.650      -3.369       5.401\n",
            "tx_juros_lag_2         0.1866      2.904      0.064      0.949      -5.505       5.878\n",
            "tx_juros_lag_3         1.3183      1.862      0.708      0.479      -2.331       4.968\n",
            "ipca_lag_1             2.2886      1.740      1.315      0.188      -1.122       5.699\n",
            "ipca_lag_2            -0.9097      2.028     -0.448      0.654      -4.885       3.066\n",
            "ipca_lag_3             0.3729      1.739      0.214      0.830      -3.035       3.780\n",
            "renda_med_lag_1       -1.4193      2.974     -0.477      0.633      -7.248       4.409\n",
            "renda_med_lag_2        2.8099      4.192      0.670      0.503      -5.406      11.026\n",
            "renda_med_lag_3        3.9035      2.587      1.509      0.131      -1.166       8.973\n",
            "ocupado_rend_lag_1     8.6047      5.686      1.513      0.130      -2.540      19.749\n",
            "ocupado_rend_lag_2     2.1326      5.364      0.398      0.691      -8.381      12.646\n",
            "ocupado_rend_lag_3     1.6990      4.755      0.357      0.721      -7.620      11.018\n",
            "incc_lag_1            -0.9542      2.172     -0.439      0.660      -5.211       3.303\n",
            "incc_lag_2             2.0478      2.513      0.815      0.415      -2.877       6.973\n",
            "incc_lag_3             1.4763      2.086      0.708      0.479      -2.613       5.565\n",
            "ic_agro_lag_1         -2.9116      1.545     -1.885      0.059      -5.940       0.116\n",
            "ic_agro_lag_2         -4.3174      2.219     -1.946      0.052      -8.666       0.032\n",
            "ic_agro_lag_3         -3.4480      2.066     -1.669      0.095      -7.497       0.601\n",
            "inadim_imob_lag_1     -0.1373      2.411     -0.057      0.955      -4.862       4.587\n",
            "inadim_imob_lag_2      0.1099      3.126      0.035      0.972      -6.016       6.236\n",
            "inadim_imob_lag_3      1.6204      2.340      0.693      0.489      -2.965       6.206\n",
            "vol_cred_lag_1         2.7636      2.219      1.245      0.213      -1.586       7.113\n",
            "vol_cred_lag_2        -3.6481      3.347     -1.090      0.276     -10.208       2.912\n",
            "vol_cred_lag_3        -3.7880      2.390     -1.585      0.113      -8.473       0.896\n",
            "sald_cred_lag_1        2.7691      1.739      1.592      0.111      -0.639       6.177\n",
            "sald_cred_lag_2        6.7889      3.084      2.201      0.028       0.744      12.834\n",
            "sald_cred_lag_3        4.7843      2.409      1.986      0.047       0.062       9.507\n",
            "ar.L1                 -0.2674      0.434     -0.617      0.537      -1.117       0.582\n",
            "ar.L2                  0.6145      0.322      1.911      0.056      -0.016       1.245\n",
            "ma.L1                 -0.0181      0.427     -0.042      0.966      -0.855       0.818\n",
            "ma.L2                 -0.6703      0.258     -2.594      0.009      -1.177      -0.164\n",
            "ar.S.L12              -0.2844      0.193     -1.472      0.141      -0.663       0.094\n",
            "ma.S.L12              -0.9836      4.414     -0.223      0.824      -9.635       7.668\n",
            "sigma2               346.8893   1511.255      0.230      0.818   -2615.115    3308.894\n",
            "===================================================================================\n",
            "Ljung-Box (L1) (Q):                   0.15   Jarque-Bera (JB):                 1.35\n",
            "Prob(Q):                              0.70   Prob(JB):                         0.51\n",
            "Heteroskedasticity (H):               0.88   Skew:                             0.28\n",
            "Prob(H) (two-sided):                  0.73   Kurtosis:                         3.16\n",
            "===================================================================================\n",
            "\n",
            "Warnings:\n",
            "[1] Covariance matrix calculated using the outer product of gradients (complex-step).\n"
          ]
        }
      ],
      "source": [
        "# Instanciando Modelo SARIMAX Inicial\n",
        "modelo_arima_inicial = SARIMAX(\n",
        "    y_train,\n",
        "    exog=X_train,\n",
        "    order=(2, 2, 2),\n",
        "    seasonal_order=(1, 2, 1, 12)    # Com sazonalidade\n",
        ")\n",
        "\n",
        "# Rodar modelo\n",
        "resultado_inicial = modelo_arima_inicial.fit()\n",
        "print(resultado_inicial.summary())"
      ]
    },
    {
      "cell_type": "code",
      "execution_count": 287,
      "metadata": {
        "colab": {
          "base_uri": "https://localhost:8080/"
        },
        "id": "pj0a3s_XqPGJ",
        "outputId": "9237d736-6598-4b24-f62d-4db1fd0fdfe1"
      },
      "outputs": [
        {
          "output_type": "stream",
          "name": "stdout",
          "text": [
            "RMSE: 401.13 - LL: -427.93 - AIC: 923.86\n"
          ]
        }
      ],
      "source": [
        "# Predição do modelo SARIMAX\n",
        "forecast_steps = len(X_test)\n",
        "forecast_inicial = resultado_inicial.get_forecast(steps=forecast_steps,\n",
        "                              exog=X_test)\n",
        "\n",
        "# Predição\n",
        "y_pred_init_sarimax = forecast_inicial.predicted_mean\n",
        "\n",
        "# Retorando valores reais\n",
        "y_true_test = y.iloc[-len(y_pred_init_sarimax):]\n",
        "\n",
        "# Calcular RMSE\n",
        "rmse_inicial = sqrt(mean_squared_error(y_true_test, y_pred_init_sarimax))\n",
        "print(f'RMSE: {rmse_inicial:.2f} - LL: {resultado_inicial.llf:.2f} - AIC: {resultado_inicial.aic:.2f}')\n"
      ]
    },
    {
      "cell_type": "code",
      "execution_count": 288,
      "metadata": {
        "colab": {
          "base_uri": "https://localhost:8080/",
          "height": 307
        },
        "id": "rBC-lNC57b1l",
        "outputId": "6fa19cda-9005-4676-f9db-4bd61db7d5dc"
      },
      "outputs": [
        {
          "output_type": "display_data",
          "data": {
            "text/plain": [
              "<Figure size 600x300 with 1 Axes>"
            ],
            "image/png": "[encoded data removed]"
          },
          "metadata": {}
        }
      ],
      "source": [
        "# Criar figura\n",
        "plt.figure(figsize=(6, 3))\n",
        "\n",
        "# Plotar valores reais\n",
        "plt.plot(y_test.index, y_true_test, 'r-', label='Valores Reais')\n",
        "\n",
        "# Plotar valores previstos\n",
        "plt.plot(y_test.index, y_pred_init_sarimax, '--', color='grey', label='Previsão')\n",
        "\n",
        "# Opções dos eixos\n",
        "plt.ylabel('R$/m²', fontsize=10)\n",
        "plt.yticks(fontsize=10)\n",
        "plt.xticks(fontsize=10)\n",
        "\n",
        "# Legedas\n",
        "plt.legend()\n",
        "\n",
        "# Tirar eixos paralelos\n",
        "ax = plt.gca()\n",
        "ax.spines['top'].set_visible(False)\n",
        "ax.spines['right'].set_visible(False)\n",
        "\n",
        "# Ajustar gráfico\n",
        "plt.tight_layout()\n",
        "plt.show()\n"
      ]
    },
    {
      "cell_type": "markdown",
      "metadata": {
        "id": "uYa_Pc8hcsYe"
      },
      "source": [
        "## 2.4 Modelo com Grid Search - RMSE\n",
        "\n",
        "Foi criado uma função para combinar parametros e encontrar o melhor RMSE. Foi criado um arquivo de funções chamado gridsearch e está sendo puxado do github.\n",
        "\n",
        "Modelo rodado e realizado previsão do modelo.\n",
        "\n",
        "Resultados de erro melhor que o modelo inicial.\n"
      ]
    },
    {
      "cell_type": "code",
      "source": [
        "# Puxando arquivo de funções gridsearch criado\n",
        "!wget https://github.com/PauloGunther/project_pos/raw/refs/heads/main/gridsearch.py -O gridsearch.py"
      ],
      "metadata": {
        "colab": {
          "base_uri": "https://localhost:8080/"
        },
        "id": "vtmmg6G66A6p",
        "outputId": "0bac83ab-6422-4a66-e8d2-2ac7bef1aa9a"
      },
      "execution_count": 289,
      "outputs": [
        {
          "output_type": "stream",
          "name": "stdout",
          "text": [
            "--2025-09-07 20:27:44--  https://github.com/PauloGunther/project_pos/raw/refs/heads/main/gridsearch.py\n",
            "Resolving github.com (github.com)... 140.82.116.3\n",
            "Connecting to github.com (github.com)|140.82.116.3|:443... connected.\n",
            "HTTP request sent, awaiting response... 302 Found\n",
            "Location: https://raw.githubusercontent.com/PauloGunther/project_pos/refs/heads/main/gridsearch.py [following]\n",
            "--2025-09-07 20:27:44--  https://raw.githubusercontent.com/PauloGunther/project_pos/refs/heads/main/gridsearch.py\n",
            "Resolving raw.githubusercontent.com (raw.githubusercontent.com)... 185.199.108.133, 185.199.109.133, 185.199.110.133, ...\n",
            "Connecting to raw.githubusercontent.com (raw.githubusercontent.com)|185.199.108.133|:443... connected.\n",
            "HTTP request sent, awaiting response... 200 OK\n",
            "Length: 14841 (14K) [text/plain]\n",
            "Saving to: ‘gridsearch.py’\n",
            "\n",
            "gridsearch.py       100%[===================>]  14.49K  --.-KB/s    in 0s      \n",
            "\n",
            "2025-09-07 20:27:44 (84.2 MB/s) - ‘gridsearch.py’ saved [14841/14841]\n",
            "\n"
          ]
        }
      ]
    },
    {
      "cell_type": "code",
      "source": [
        "# Importando funções gridsearch RMSE e AIC\n",
        "import gridsearch"
      ],
      "metadata": {
        "id": "S_Nxe8Au-8iD"
      },
      "execution_count": 290,
      "outputs": []
    },
    {
      "cell_type": "code",
      "source": [
        "# Gridsearch procurando melhor RMSE\n",
        "\n",
        "#Função comentada pois demora para rodar\n",
        "\n",
        "\"\"\"\n",
        "gridsearch.sarimax_gridsearch_rmse(y, y_train, y_test, exog_train=X_train, exog_test=X_test,\n",
        "                           p_values=range(1, 3), d_values=range(1, 3), q_values=range(1, 3),\n",
        "                           P_values=range(0, 3), D_values=range(0, 3), Q_values=range(0, 3),\n",
        "                           seasonal_period=12)\n",
        "\"\"\""
      ],
      "metadata": {
        "colab": {
          "base_uri": "https://localhost:8080/",
          "height": 52
        },
        "id": "NQpedild6f6j",
        "outputId": "8ce05032-a4b5-41c1-9709-f6c512c6d805"
      },
      "execution_count": 291,
      "outputs": [
        {
          "output_type": "execute_result",
          "data": {
            "text/plain": [
              "'\\ngridsearch.sarimax_gridsearch_rmse(y, y_train, y_test, exog_train=X_train, exog_test=X_test,\\n                           p_values=range(1, 3), d_values=range(1, 3), q_values=range(1, 3),\\n                           P_values=range(0, 3), D_values=range(0, 3), Q_values=range(0, 3),\\n                           seasonal_period=12)\\n'"
            ],
            "application/vnd.google.colaboratory.intrinsic+json": {
              "type": "string"
            }
          },
          "metadata": {},
          "execution_count": 291
        }
      ]
    },
    {
      "cell_type": "code",
      "execution_count": 292,
      "metadata": {
        "colab": {
          "base_uri": "https://localhost:8080/"
        },
        "id": "yoOOl_kBBvnU",
        "outputId": "7698f2d6-625f-4d47-e23f-ca5ff499e303"
      },
      "outputs": [
        {
          "output_type": "stream",
          "name": "stdout",
          "text": [
            "                                      SARIMAX Results                                      \n",
            "===========================================================================================\n",
            "Dep. Variable:                            go_price   No. Observations:                  121\n",
            "Model:             SARIMAX(1, 1, 1)x(2, 0, [], 12)   Log Likelihood                -499.497\n",
            "Date:                             Sun, 07 Sep 2025   AIC                           1062.995\n",
            "Time:                                     20:27:52   BIC                           1152.194\n",
            "Sample:                                 06-01-2014   HQIC                          1099.219\n",
            "                                      - 06-01-2024                                         \n",
            "Covariance Type:                               opg                                         \n",
            "======================================================================================\n",
            "                         coef    std err          z      P>|z|      [0.025      0.975]\n",
            "--------------------------------------------------------------------------------------\n",
            "tx_juros_lag_1        -0.4153      1.548     -0.268      0.788      -3.449       2.619\n",
            "tx_juros_lag_2        -1.1450      1.973     -0.580      0.562      -5.013       2.723\n",
            "tx_juros_lag_3         0.0696      1.410      0.049      0.961      -2.693       2.833\n",
            "ipca_lag_1             2.4236      1.588      1.526      0.127      -0.689       5.536\n",
            "ipca_lag_2             0.3157      1.990      0.159      0.874      -3.584       4.215\n",
            "ipca_lag_3             0.1666      1.695      0.098      0.922      -3.155       3.489\n",
            "renda_med_lag_1       -1.7832      2.617     -0.681      0.496      -6.912       3.346\n",
            "renda_med_lag_2       -0.0005      3.950     -0.000      1.000      -7.743       7.742\n",
            "renda_med_lag_3       -1.8123      3.443     -0.526      0.599      -8.560       4.935\n",
            "ocupado_rend_lag_1     4.4971      4.740      0.949      0.343      -4.793      13.787\n",
            "ocupado_rend_lag_2    -1.0725      4.340     -0.247      0.805      -9.579       7.434\n",
            "ocupado_rend_lag_3     3.0861      4.695      0.657      0.511      -6.117      12.289\n",
            "incc_lag_1             0.4463      1.889      0.236      0.813      -3.256       4.149\n",
            "incc_lag_2             2.4375      2.715      0.898      0.369      -2.884       7.759\n",
            "incc_lag_3             1.6163      2.380      0.679      0.497      -3.049       6.281\n",
            "ic_agro_lag_1         -0.5778      1.765     -0.327      0.743      -4.038       2.883\n",
            "ic_agro_lag_2         -2.5856      1.743     -1.484      0.138      -6.001       0.830\n",
            "ic_agro_lag_3         -0.9864      1.735     -0.568      0.570      -4.387       2.415\n",
            "inadim_imob_lag_1      1.3986      1.874      0.746      0.455      -2.274       5.072\n",
            "inadim_imob_lag_2      0.2682      2.288      0.117      0.907      -4.216       4.753\n",
            "inadim_imob_lag_3      1.6239      1.908      0.851      0.395      -2.115       5.363\n",
            "vol_cred_lag_1         1.0767      2.155      0.500      0.617      -3.146       5.300\n",
            "vol_cred_lag_2        -3.4326      3.403     -1.009      0.313     -10.103       3.238\n",
            "vol_cred_lag_3        -3.8205      2.260     -1.691      0.091      -8.250       0.609\n",
            "sald_cred_lag_1        0.0736      2.022      0.036      0.971      -3.890       4.037\n",
            "sald_cred_lag_2        4.3014      3.031      1.419      0.156      -1.639      10.242\n",
            "sald_cred_lag_3        3.9532      2.000      1.977      0.048       0.033       7.873\n",
            "ar.L1                  0.9564      0.042     23.016      0.000       0.875       1.038\n",
            "ma.L1                 -0.0774      0.163     -0.476      0.634      -0.396       0.242\n",
            "ar.S.L12               0.0538      0.177      0.305      0.761      -0.293       0.400\n",
            "ar.S.L24              -0.1786      0.164     -1.091      0.275      -0.500       0.142\n",
            "sigma2               236.8235     40.101      5.906      0.000     158.226     315.420\n",
            "===================================================================================\n",
            "Ljung-Box (L1) (Q):                   0.02   Jarque-Bera (JB):                 5.68\n",
            "Prob(Q):                              0.89   Prob(JB):                         0.06\n",
            "Heteroskedasticity (H):               1.85   Skew:                             0.30\n",
            "Prob(H) (two-sided):                  0.06   Kurtosis:                         3.89\n",
            "===================================================================================\n",
            "\n",
            "Warnings:\n",
            "[1] Covariance matrix calculated using the outer product of gradients (complex-step).\n"
          ]
        }
      ],
      "source": [
        "# 2º Modelo SARIMAX - Grid Search - RMSE\n",
        "\n",
        "\"\"\"\n",
        "Top 5 melhores modelos por RMSE:\n",
        "    order seasonal_order       rmse  log_likelihood         aic         bic\n",
        "(1, 1, 1)  (2, 0, 0, 12) 102.444091     -499.497258 1062.994516 1152.194251\n",
        "(1, 1, 1)  (2, 0, 1, 12) 110.933277     -499.894191 1065.788382 1157.775610\n",
        "(1, 1, 1)  (0, 0, 0, 12) 114.933928     -499.873783 1059.747566 1143.372318\n",
        "(1, 1, 1)  (0, 0, 1, 12) 115.336388     -499.981650 1061.963300 1148.375544\n",
        "(1, 1, 1)  (1, 0, 0, 12) 117.183356     -499.972665 1061.945329 1148.357573\n",
        "\"\"\"\n",
        "\n",
        "# Modelo com o menor erro (RMSE)\n",
        "modelo_arima_gs = SARIMAX(\n",
        "    y_train,\n",
        "    exog=X_train,\n",
        "    order=(1, 1, 1),\n",
        "    seasonal_order=(2, 0, 0, 12))\n",
        "\n",
        "# Treinar\n",
        "resultado_gs = modelo_arima_gs.fit()\n",
        "print(resultado_gs.summary())"
      ]
    },
    {
      "cell_type": "code",
      "execution_count": 293,
      "metadata": {
        "colab": {
          "base_uri": "https://localhost:8080/"
        },
        "id": "OlrayLFWCXmx",
        "outputId": "28c552b4-e557-42e9-e8ea-fe139dbe9d0a"
      },
      "outputs": [
        {
          "output_type": "stream",
          "name": "stdout",
          "text": [
            "INICIAL\n",
            "RMSE: 401.13 - LL: -427.93 - AIC: 923.86\n",
            "Grid Search RMSE:\n",
            "RMSE: 102.44 - LL: -499.50 - AIC: 1062.99\n"
          ]
        }
      ],
      "source": [
        "# Predição do modelo SARIMAX - Grid Search - RMSE\n",
        "forecast_steps = len(X_test)\n",
        "forecast_gs = resultado_gs.get_forecast(steps=forecast_steps,\n",
        "                              exog=X_test)\n",
        "\n",
        "# Previsão\n",
        "y_pred_gs_rmse = forecast_gs.predicted_mean\n",
        "\n",
        "# Calcular RMSE\n",
        "rmse_gs = sqrt(mean_squared_error(y_true_test, y_pred_gs_rmse))\n",
        "\n",
        "print('INICIAL')\n",
        "print(f'RMSE: {rmse_inicial:.2f} - LL: {resultado_inicial.llf:.2f} - AIC: {resultado_inicial.aic:.2f}')\n",
        "print('Grid Search RMSE:')\n",
        "print(f'RMSE: {rmse_gs:.2f} - LL: {resultado_gs.llf:.2f} - AIC: {resultado_gs.aic:.2f}')\n"
      ]
    },
    {
      "cell_type": "code",
      "source": [
        "pred_train = resultado_gs.get_prediction(\n",
        "    start=0,\n",
        "    end=len(X_train)-1,\n",
        "    exog=X_train\n",
        ")\n",
        "\n",
        "# Valores previstos no treino\n",
        "y_pred_train = pred_train.predicted_mean\n",
        "\n",
        "# Calcular RMSE treino\n",
        "rmse_train = sqrt(mean_squared_error(y_train, y_pred_train))\n",
        "print(\"RMSE Treino:\", rmse_train)"
      ],
      "metadata": {
        "colab": {
          "base_uri": "https://localhost:8080/"
        },
        "id": "Tn9EDKzb1uD5",
        "outputId": "8b7ea5a6-ce02-4df9-fa12-f76291930fc2"
      },
      "execution_count": 294,
      "outputs": [
        {
          "output_type": "stream",
          "name": "stdout",
          "text": [
            "RMSE Treino: 352.2358226795491\n"
          ]
        }
      ]
    },
    {
      "cell_type": "markdown",
      "source": [
        "## 2.4 Modelo com Grid Search - AIC\n",
        "\n",
        "No mesmo arquivo de função, há uma segundo para combinar parametros e encontrar o melhor AIC.\n",
        "\n",
        "Modelo rodado e realizado previsão do modelo.\n",
        "\n",
        "Resultados de erro melhor que o modelo inicial.\n",
        "\n",
        "COmo este modelo tem a melhor métrica de AIC que combina qualidade e complexidade, evitando overfitting, foi utilizado para avaliar os coeficientes das variaveis independentes e os impactos na variavel resposta."
      ],
      "metadata": {
        "id": "c-LmOna1BjJR"
      }
    },
    {
      "cell_type": "code",
      "source": [
        "# Gridsearch procurando melhor AIC\n",
        "\"\"\"\n",
        "#Função comentado pois demora para rodar\n",
        "gridsearch.sarimax_gridsearch_AIC(y, y_train, y_test, exog_train=X_train, exog_test=X_test,\n",
        "                           p_values=range(0, 3), d_values=range(0, 3), q_values=range(0, 3),\n",
        "                           P_values=range(0, 3), D_values=range(0, 3), Q_values=range(0, 3),\n",
        "                           seasonal_period=12)\n",
        "\"\"\"\n"
      ],
      "metadata": {
        "colab": {
          "base_uri": "https://localhost:8080/",
          "height": 52
        },
        "id": "RxB75HxoBzak",
        "outputId": "98888504-84f0-4e2b-9d59-73e7710a62d5"
      },
      "execution_count": 98,
      "outputs": [
        {
          "output_type": "execute_result",
          "data": {
            "text/plain": [
              "'\\n#Função comentado pois demora para rodar\\ngridsearch.sarimax_gridsearch_AIC(y, y_train, y_test, exog_train=X_train, exog_test=X_test,\\n                           p_values=range(0, 3), d_values=range(0, 3), q_values=range(0, 3),\\n                           P_values=range(0, 3), D_values=range(0, 3), Q_values=range(0, 3),\\n                           seasonal_period=12)\\n'"
            ],
            "application/vnd.google.colaboratory.intrinsic+json": {
              "type": "string"
            }
          },
          "metadata": {},
          "execution_count": 98
        }
      ]
    },
    {
      "cell_type": "code",
      "source": [
        "# Modelo SARIMAX - Grid Search - AIC\n",
        "\n",
        "\"\"\"\n",
        "(1, 2, 1)  (2, 2, 2, 12)    801.314457     -416.086370 900.172741 987.004555\n",
        "(2, 2, 2)  (2, 2, 2, 12)    731.104138     -415.040295 902.080590 994.020158\n",
        "\"\"\"\n",
        "\n",
        "# Modelo com o menor erro (RMSE)\n",
        "modelo_arima_aic = SARIMAX(\n",
        "    y_train,\n",
        "    exog=X_train,\n",
        "    order=(1, 2, 1),\n",
        "    seasonal_order=(2, 2, 2, 12))\n",
        "\n",
        "# Treinar\n",
        "resultado_aic = modelo_arima_aic.fit()\n",
        "print(resultado_aic.summary())"
      ],
      "metadata": {
        "colab": {
          "base_uri": "https://localhost:8080/"
        },
        "id": "5CFgkY_J4Mse",
        "outputId": "7a942a80-e019-49f7-a78a-dc53b45a77a0"
      },
      "execution_count": 295,
      "outputs": [
        {
          "output_type": "stream",
          "name": "stdout",
          "text": [
            "                                        SARIMAX Results                                        \n",
            "===============================================================================================\n",
            "Dep. Variable:                                go_price   No. Observations:                  121\n",
            "Model:             SARIMAX(1, 2, 1)x(2, 2, [1, 2], 12)   Log Likelihood                -416.086\n",
            "Date:                                 Sun, 07 Sep 2025   AIC                            900.173\n",
            "Time:                                         20:29:08   BIC                            987.005\n",
            "Sample:                                     06-01-2014   HQIC                           935.259\n",
            "                                          - 06-01-2024                                         \n",
            "Covariance Type:                                   opg                                         \n",
            "======================================================================================\n",
            "                         coef    std err          z      P>|z|      [0.025      0.975]\n",
            "--------------------------------------------------------------------------------------\n",
            "tx_juros_lag_1         3.5403      1.698      2.085      0.037       0.212       6.869\n",
            "tx_juros_lag_2         3.0995      1.944      1.594      0.111      -0.710       6.909\n",
            "tx_juros_lag_3         1.8945      1.688      1.122      0.262      -1.414       5.203\n",
            "ipca_lag_1             3.2181      1.403      2.294      0.022       0.468       5.968\n",
            "ipca_lag_2            -0.4072      1.055     -0.386      0.700      -2.475       1.661\n",
            "ipca_lag_3             0.1718      1.421      0.121      0.904      -2.613       2.956\n",
            "renda_med_lag_1       -2.9371      2.486     -1.182      0.237      -7.809       1.934\n",
            "renda_med_lag_2       -1.8261      3.052     -0.598      0.550      -7.808       4.156\n",
            "renda_med_lag_3        1.1569      2.508      0.461      0.645      -3.759       6.072\n",
            "ocupado_rend_lag_1     6.2300      3.430      1.817      0.069      -0.492      12.952\n",
            "ocupado_rend_lag_2     6.4994      4.389      1.481      0.139      -2.103      15.101\n",
            "ocupado_rend_lag_3     1.2772      5.329      0.240      0.811      -9.168      11.722\n",
            "incc_lag_1            -2.5931      1.845     -1.405      0.160      -6.210       1.024\n",
            "incc_lag_2             2.1807      1.750      1.246      0.213      -1.249       5.611\n",
            "incc_lag_3            -0.8573      2.191     -0.391      0.696      -5.151       3.436\n",
            "ic_agro_lag_1         -1.4703      1.723     -0.853      0.393      -4.847       1.907\n",
            "ic_agro_lag_2         -3.3770      1.647     -2.050      0.040      -6.606      -0.148\n",
            "ic_agro_lag_3         -2.6891      1.981     -1.357      0.175      -6.572       1.194\n",
            "inadim_imob_lag_1     -2.5292      2.486     -1.017      0.309      -7.402       2.344\n",
            "inadim_imob_lag_2     -1.7019      2.558     -0.665      0.506      -6.715       3.311\n",
            "inadim_imob_lag_3      0.1960      2.394      0.082      0.935      -4.496       4.888\n",
            "vol_cred_lag_1         1.9791      2.181      0.908      0.364      -2.295       6.253\n",
            "vol_cred_lag_2        -5.3113      3.217     -1.651      0.099     -11.617       0.995\n",
            "vol_cred_lag_3        -6.3553      2.593     -2.451      0.014     -11.438      -1.273\n",
            "sald_cred_lag_1        3.1322      2.323      1.348      0.178      -1.421       7.685\n",
            "sald_cred_lag_2        7.6116      3.214      2.368      0.018       1.313      13.911\n",
            "sald_cred_lag_3        6.2224      2.429      2.562      0.010       1.462      10.982\n",
            "ar.L1                 -0.9507      0.097     -9.825      0.000      -1.140      -0.761\n",
            "ma.L1                  0.6754      0.163      4.146      0.000       0.356       0.995\n",
            "ar.S.L12              -0.6993      0.148     -4.728      0.000      -0.989      -0.409\n",
            "ar.S.L24              -0.7180      0.119     -6.024      0.000      -0.952      -0.484\n",
            "ma.S.L12              -0.0087    177.552   -4.9e-05      1.000    -348.004     347.986\n",
            "ma.S.L24              -0.9904    187.329     -0.005      0.996    -368.148     366.167\n",
            "sigma2               173.9791   3.28e+04      0.005      0.996   -6.42e+04    6.45e+04\n",
            "===================================================================================\n",
            "Ljung-Box (L1) (Q):                   0.02   Jarque-Bera (JB):                 0.28\n",
            "Prob(Q):                              0.88   Prob(JB):                         0.87\n",
            "Heteroskedasticity (H):               0.97   Skew:                            -0.12\n",
            "Prob(H) (two-sided):                  0.92   Kurtosis:                         3.09\n",
            "===================================================================================\n",
            "\n",
            "Warnings:\n",
            "[1] Covariance matrix calculated using the outer product of gradients (complex-step).\n"
          ]
        }
      ]
    },
    {
      "cell_type": "code",
      "source": [
        "# Predição do modelo SARIMAX - Grid Search\n",
        "forecast_steps = len(X_test)\n",
        "forecast_aic = resultado_aic.get_forecast(steps=forecast_steps,\n",
        "                              exog=X_test)\n",
        "\n",
        "# Predição\n",
        "y_pred_aic = forecast_aic.predicted_mean\n",
        "\n",
        "# Calcular RMSE\n",
        "rmse_aic = sqrt(mean_squared_error(y_true_test, y_pred_aic))"
      ],
      "metadata": {
        "id": "VDUHjN1C4sUh"
      },
      "execution_count": 299,
      "outputs": []
    },
    {
      "cell_type": "markdown",
      "source": [
        "## 2.5 Visualização das predições e resultados dos modelos\n",
        "\n",
        "INICIAL\n",
        "\n",
        "RMSE: 74.69 - LL: -489.17 - AIC: 1046.34\n",
        "\n",
        "Grid Search: RMSE\n",
        "\n",
        "RMSE: 68.34 - LL: -492.58 - AIC: 1053.17\n",
        "\n",
        "Grid Search: AIC\n",
        "\n",
        "RMSE: 85.29 - LL: -448.55 - AIC: 963.10"
      ],
      "metadata": {
        "id": "cFfWHgBzCrW-"
      }
    },
    {
      "cell_type": "code",
      "source": [
        "# Visualizar resultados de métricas dos tres modelos SARIMAX\n",
        "\n",
        "print('INICIAL')\n",
        "print(f'RMSE: {rmse_inicial:.2f} - LL: {resultado_inicial.llf:.2f} - AIC: {resultado_inicial.aic:.2f}')\n",
        "print('Grid Search: RMSE')\n",
        "print(f'RMSE: {rmse_gs:.2f} - LL: {resultado_gs.llf:.2f} - AIC: {resultado_gs.aic:.2f}')\n",
        "print('Grid Search: AIC')\n",
        "print(f'RMSE: {rmse_aic:.2f} - LL: {resultado_aic.llf:.2f} - AIC: {resultado_aic.aic:.2f}')"
      ],
      "metadata": {
        "colab": {
          "base_uri": "https://localhost:8080/"
        },
        "id": "Krn80l7D5-yd",
        "outputId": "f2e56ca1-aa0d-4a5d-af20-bc0de42aa6a7"
      },
      "execution_count": 298,
      "outputs": [
        {
          "output_type": "stream",
          "name": "stdout",
          "text": [
            "INICIAL\n",
            "RMSE: 401.13 - LL: -427.93 - AIC: 923.86\n",
            "Grid Search: RMSE\n",
            "RMSE: 102.44 - LL: -499.50 - AIC: 1062.99\n",
            "Grid Search: AIC\n",
            "RMSE: 801.31 - LL: -416.09 - AIC: 900.17\n"
          ]
        }
      ]
    },
    {
      "cell_type": "code",
      "execution_count": 102,
      "metadata": {
        "colab": {
          "base_uri": "https://localhost:8080/",
          "height": 307
        },
        "id": "N3EA_8ECOfgp",
        "outputId": "b3e55bed-3c13-4d36-cf20-eb6de6588906"
      },
      "outputs": [
        {
          "output_type": "display_data",
          "data": {
            "text/plain": [
              "<Figure size 600x300 with 1 Axes>"
            ],
            "image/png": "[encoded data removed]"
          },
          "metadata": {}
        }
      ],
      "source": [
        "# Criar figura\n",
        "plt.figure(figsize=(6, 3))\n",
        "\n",
        "# Plotar valores reais\n",
        "plt.plot(y_test.index, y_true_test, 'r-', label='Valores Reais')\n",
        "\n",
        "# Plotar valores previstos\n",
        "plt.plot(y_test.index, y_pred_init_sarimax, '--', color='magenta', label='Modelo Inicial')\n",
        "plt.plot(y_test.index, y_pred_gs_rmse, '--',color='grey', label='GridSearch - RMSE')\n",
        "plt.plot(y_test.index, y_pred_aic, '--', color='purple', label='GridSearch - AIC')\n",
        "\n",
        "# Opções dos eixos\n",
        "plt.ylabel('R$/m²', fontsize=10)\n",
        "plt.yticks(fontsize=10)\n",
        "plt.xticks(fontsize=10)\n",
        "\n",
        "# Legedas\n",
        "plt.legend()\n",
        "\n",
        "# Tirar eixos paralelos\n",
        "ax = plt.gca()\n",
        "ax.spines['top'].set_visible(False)\n",
        "ax.spines['right'].set_visible(False)\n",
        "\n",
        "# Ajustar gráfico\n",
        "plt.tight_layout()\n",
        "plt.show()"
      ]
    },
    {
      "cell_type": "markdown",
      "metadata": {
        "id": "F9V5Gtm3Q8O-"
      },
      "source": [
        "# 3. Modelo XGBoost"
      ]
    },
    {
      "cell_type": "markdown",
      "metadata": {
        "id": "ro82J8meRTGy"
      },
      "source": [
        "## 3.1 Tratamentos iniciais\n",
        "\n",
        "Criado lags\n",
        "\n",
        "Diferenciado features e target - nao foi usado normalização\n"
      ]
    },
    {
      "cell_type": "code",
      "execution_count": 112,
      "metadata": {
        "id": "rdKTqxatQ7HV"
      },
      "outputs": [],
      "source": [
        "# Definir dataframe\n",
        "df_xgb = df_pre_pro.dropna()"
      ]
    },
    {
      "cell_type": "code",
      "execution_count": 113,
      "metadata": {
        "id": "eDz5erOkSXsW"
      },
      "outputs": [],
      "source": [
        "# Criando variaveis com lag\n",
        "lags =  3 # Lag\n",
        "\n",
        "# Lag features\n",
        "X = df_xgb.copy()\n",
        "for col in X.columns.tolist():\n",
        "    for lag in range(1, lags + 1):\n",
        "        X[f'{col}_lag_{lag}'] = X[col].shift(lag)"
      ]
    },
    {
      "cell_type": "code",
      "source": [
        "# Excluir variaivel orginais deixando apenas defasadas\n",
        "X = X.drop(columns=df_xgb.columns.tolist())\n",
        "\n",
        "# Diferenciar variaveis independentes\n",
        "X_xgb = X.diff().dropna()\n",
        "X_xgb.head()"
      ],
      "metadata": {
        "id": "M-EUK5ARRVKz"
      },
      "execution_count": 114,
      "outputs": []
    },
    {
      "cell_type": "code",
      "source": [
        "# Definir variavel dependente\n",
        "y_xgb = df_xgb['go_price']\n",
        "\n",
        "# Diferenciação em y\n",
        "y_xgb_diff = y_xgb.diff().dropna()\n",
        "y_xgb_diff.head()"
      ],
      "metadata": {
        "colab": {
          "base_uri": "https://localhost:8080/",
          "height": 273
        },
        "id": "SgAfIttanKt8",
        "outputId": "004f0a2c-6037-4a32-db16-a903abc9f9c8"
      },
      "execution_count": 118,
      "outputs": [
        {
          "output_type": "execute_result",
          "data": {
            "text/plain": [
              "date\n",
              "2014-02-01    27.865400\n",
              "2014-03-01    52.360131\n",
              "2014-04-01    70.842366\n",
              "2014-05-01    40.977896\n",
              "2014-06-01    36.911115\n",
              "Name: go_price, dtype: float64"
            ],
            "text/html": [
              "<div>\n",
              "<style scoped>\n",
              "    .dataframe tbody tr th:only-of-type {\n",
              "        vertical-align: middle;\n",
              "    }\n",
              "\n",
              "    .dataframe tbody tr th {\n",
              "        vertical-align: top;\n",
              "    }\n",
              "\n",
              "    .dataframe thead th {\n",
              "        text-align: right;\n",
              "    }\n",
              "</style>\n",
              "<table border=\"1\" class=\"dataframe\">\n",
              "  <thead>\n",
              "    <tr style=\"text-align: right;\">\n",
              "      <th></th>\n",
              "      <th>go_price</th>\n",
              "    </tr>\n",
              "    <tr>\n",
              "      <th>date</th>\n",
              "      <th></th>\n",
              "    </tr>\n",
              "  </thead>\n",
              "  <tbody>\n",
              "    <tr>\n",
              "      <th>2014-02-01</th>\n",
              "      <td>27.865400</td>\n",
              "    </tr>\n",
              "    <tr>\n",
              "      <th>2014-03-01</th>\n",
              "      <td>52.360131</td>\n",
              "    </tr>\n",
              "    <tr>\n",
              "      <th>2014-04-01</th>\n",
              "      <td>70.842366</td>\n",
              "    </tr>\n",
              "    <tr>\n",
              "      <th>2014-05-01</th>\n",
              "      <td>40.977896</td>\n",
              "    </tr>\n",
              "    <tr>\n",
              "      <th>2014-06-01</th>\n",
              "      <td>36.911115</td>\n",
              "    </tr>\n",
              "  </tbody>\n",
              "</table>\n",
              "</div><br><label><b>dtype:</b> float64</label>"
            ]
          },
          "metadata": {},
          "execution_count": 118
        }
      ]
    },
    {
      "cell_type": "code",
      "source": [
        "# Igual tamanho devido as perdas com defasagem (lag=3)\n",
        "y_xgb_diff = y_xgb_diff.drop(pd.Timestamp(\"2014-02-01\"))\n",
        "y_xgb_diff = y_xgb_diff.drop(pd.Timestamp(\"2014-03-01\"))\n",
        "y_xgb_diff = y_xgb_diff.drop(pd.Timestamp(\"2014-04-01\"))"
      ],
      "metadata": {
        "id": "fnjI8Ug5niqg"
      },
      "execution_count": 119,
      "outputs": []
    },
    {
      "cell_type": "code",
      "source": [
        "# Dividir em teste e treino\n",
        "X_train, X_test = X_xgb.iloc[:-test_size], X_xgb.iloc[-test_size:]\n",
        "y_train, y_test = y_xgb_diff.iloc[:-test_size], y_xgb_diff.iloc[-test_size:]"
      ],
      "metadata": {
        "id": "5d-FlDg1yI6Q"
      },
      "execution_count": 120,
      "outputs": []
    },
    {
      "cell_type": "markdown",
      "metadata": {
        "id": "aYSPh0vcSuQ6"
      },
      "source": [
        "## 3.2 XGBoost Inicial\n",
        "BOm equilibrio entre teste e treino. Modelo bem generalista\n",
        "\n",
        "RMSE Teste: 188.18 | RMSE Treino: 142.63"
      ]
    },
    {
      "cell_type": "code",
      "source": [
        "# Instanciar modelo\n",
        "model_xgb_init = xgb.XGBRegressor(\n",
        "        learning_rate=0.1,\n",
        "        max_depth=9,\n",
        "        n_estimators=100,\n",
        "        random_state=42\n",
        "    )\n",
        "\n",
        "# Treinar modelo\n",
        "model_xgb_init = model_xgb_init.fit(X_train, y_train)\n",
        "\n",
        "# ====== TESTE =======\n",
        "# Previsão\n",
        "y_pred_xgb_init_test = model_xgb_init.predict(X_test)\n",
        "\n",
        "# Retornando diferenciação\n",
        "y_reconst1 = y_pred_xgb_init_test.cumsum() # diff1\n",
        "y_pred_xgb_init_test = y_reconst1 + y_true_test[0]\n",
        "\n",
        "# Erro no teste\n",
        "rmse_test_init = np.sqrt(mean_squared_error(y_true_test, y_pred_xgb_init_test))\n",
        "\n",
        "\n",
        "# ===== TREINO =======\n",
        "#Previsão\n",
        "y_pred_xgb_init_train = model_xgb_init.predict(X_train)\n",
        "\n",
        "# Retornando diferenciação\n",
        "y_reconst1 = y_pred_xgb_init_train.cumsum() # diff1\n",
        "\n",
        "# Retorno do real no treino\n",
        "y_true_train = y_xgb.iloc[:len(y_train)]\n",
        "\n",
        "# Terminando o retorno da diferenciação\n",
        "y_pred_xgb_init_train = y_reconst1 + y_true_train[0]\n",
        "\n",
        "# Erro no treino\n",
        "rmse_train = np.sqrt(mean_squared_error(y_true_train, y_pred_xgb_init_train))\n",
        "\n",
        "# ==== RESULTADOS ======\n",
        "print(f\"RMSE Teste: {rmse_test_init:.2f} | RMSE Treino: {rmse_train:.2f}\")"
      ],
      "metadata": {
        "colab": {
          "base_uri": "https://localhost:8080/"
        },
        "id": "ygTc6l1G1H0Q",
        "outputId": "88fb600e-7b57-4ada-edfc-0bfb065340db"
      },
      "execution_count": 121,
      "outputs": [
        {
          "output_type": "stream",
          "name": "stdout",
          "text": [
            "RMSE Teste: 188.18 | RMSE Treino: 142.63\n"
          ]
        }
      ]
    },
    {
      "cell_type": "code",
      "source": [
        "# Criar figura\n",
        "plt.figure(figsize=(8, 4))\n",
        "\n",
        "# Plotar valores reais\n",
        "plt.plot(y_test.index, y_true_test, 'r-', label='Valores Reais')\n",
        "plt.plot(y_test.index, y_pred_gs_rmse, '--',color='grey', label='SARIMAX - GS')\n",
        "plt.plot(y_test.index, y_pred_xgb_init_test, '--',color='green', label='XGB - Inicial')\n",
        "\n",
        "# Opções dos eixos\n",
        "plt.ylabel('R$/m²', fontsize=10)\n",
        "plt.yticks(fontsize=10)\n",
        "plt.xticks(fontsize=10)\n",
        "\n",
        "# Legedas\n",
        "plt.legend()\n",
        "\n",
        "# Tirar eixos paralelos\n",
        "ax = plt.gca()\n",
        "ax.spines['top'].set_visible(False)\n",
        "ax.spines['right'].set_visible(False)\n",
        "\n",
        "# Ajustar gráfico\n",
        "plt.tight_layout()\n",
        "plt.show()"
      ],
      "metadata": {
        "colab": {
          "base_uri": "https://localhost:8080/",
          "height": 211
        },
        "id": "zIBuNsc86Rgv",
        "outputId": "3f657c5a-7322-4109-b3ed-a2324d8adf58"
      },
      "execution_count": 1,
      "outputs": [
        {
          "output_type": "error",
          "ename": "NameError",
          "evalue": "name 'plt' is not defined",
          "traceback": [
            "\u001b[0;31m---------------------------------------------------------------------------\u001b[0m",
            "\u001b[0;31mNameError\u001b[0m                                 Traceback (most recent call last)",
            "\u001b[0;32m/tmp/ipython-input-2016017231.py\u001b[0m in \u001b[0;36m<cell line: 0>\u001b[0;34m()\u001b[0m\n\u001b[1;32m      1\u001b[0m \u001b[0;31m# Criar figura\u001b[0m\u001b[0;34m\u001b[0m\u001b[0;34m\u001b[0m\u001b[0m\n\u001b[0;32m----> 2\u001b[0;31m \u001b[0mplt\u001b[0m\u001b[0;34m.\u001b[0m\u001b[0mfigure\u001b[0m\u001b[0;34m(\u001b[0m\u001b[0mfigsize\u001b[0m\u001b[0;34m=\u001b[0m\u001b[0;34m(\u001b[0m\u001b[0;36m8\u001b[0m\u001b[0;34m,\u001b[0m \u001b[0;36m4\u001b[0m\u001b[0;34m)\u001b[0m\u001b[0;34m)\u001b[0m\u001b[0;34m\u001b[0m\u001b[0;34m\u001b[0m\u001b[0m\n\u001b[0m\u001b[1;32m      3\u001b[0m \u001b[0;34m\u001b[0m\u001b[0m\n\u001b[1;32m      4\u001b[0m \u001b[0;31m# Plotar valores reais\u001b[0m\u001b[0;34m\u001b[0m\u001b[0;34m\u001b[0m\u001b[0m\n\u001b[1;32m      5\u001b[0m \u001b[0mplt\u001b[0m\u001b[0;34m.\u001b[0m\u001b[0mplot\u001b[0m\u001b[0;34m(\u001b[0m\u001b[0my_test\u001b[0m\u001b[0;34m.\u001b[0m\u001b[0mindex\u001b[0m\u001b[0;34m,\u001b[0m \u001b[0my_true_test\u001b[0m\u001b[0;34m,\u001b[0m \u001b[0;34m'r-'\u001b[0m\u001b[0;34m,\u001b[0m \u001b[0mlabel\u001b[0m\u001b[0;34m=\u001b[0m\u001b[0;34m'Valores Reais'\u001b[0m\u001b[0;34m)\u001b[0m\u001b[0;34m\u001b[0m\u001b[0;34m\u001b[0m\u001b[0m\n",
            "\u001b[0;31mNameError\u001b[0m: name 'plt' is not defined"
          ]
        }
      ]
    },
    {
      "cell_type": "markdown",
      "source": [
        "## 3.3 XGBoost GridSearch\n",
        "Melhor modelo Grid Search apresentou alto erro no treino.\n",
        "\n",
        "Params: lr=0.001, depth=7, n_estimators=300 | RMSE teste: 73.47 | RMSE treino: 788.13 | Relação 10.73"
      ],
      "metadata": {
        "id": "WXbLGKRigSTV"
      }
    },
    {
      "cell_type": "code",
      "source": [
        "# Definido parâmetros para o Grid\n",
        "param_grid = {\n",
        "    \"learning_rate\": [0.005, 0.003, 0.001],\n",
        "    \"max_depth\": [3, 5, 7],\n",
        "    \"n_estimators\": [100, 300, 500]\n",
        "}\n",
        "\n",
        "# Gerar todas as combinações possíveis\n",
        "param_combinations = list(itertools.product(\n",
        "    param_grid[\"learning_rate\"],\n",
        "    param_grid[\"max_depth\"],\n",
        "    param_grid[\"n_estimators\"]\n",
        "))"
      ],
      "metadata": {
        "id": "68EKyc-HjTIf"
      },
      "execution_count": 123,
      "outputs": []
    },
    {
      "cell_type": "code",
      "source": [
        "# Definir variaveis\n",
        "best_params = None\n",
        "best_rmse = float(\"inf\")\n",
        "\n",
        "# Para cada grid\n",
        "for params in param_combinations:\n",
        "    lr, md, ne = params\n",
        "    rmse_test_scores = []\n",
        "    rmse_train_scores = []\n",
        "\n",
        "    # Instanciado o modelo\n",
        "    model_xgb_gs = xgb.XGBRegressor(\n",
        "          learning_rate=lr,\n",
        "          max_depth=md,\n",
        "          n_estimators=ne,\n",
        "          random_state=42\n",
        "      )\n",
        "\n",
        "    # Treinar\n",
        "    model_xgb_gs.fit(X_train, y_train)\n",
        "\n",
        "    # ======= TESTE ========\n",
        "    # Prever\n",
        "    y_pred_xgb_gs_test = model_xgb_gs.predict(X_test)\n",
        "\n",
        "    # Retornando diferenciação\n",
        "    y_reconst1 = y_pred_xgb_gs_test.cumsum()\n",
        "    y_pred_xgb_gs_test = y_reconst1 + y_true_test[0]\n",
        "\n",
        "    # Erro\n",
        "    rmse = np.sqrt(mean_squared_error(y_true_test, y_pred_xgb_gs_test))\n",
        "    rmse_test_scores.append(rmse)\n",
        "\n",
        "    # ======= TREINO ========\n",
        "    # Prever\n",
        "    y_pred_xgb_gs_train = model_xgb_gs.predict(X_train)\n",
        "\n",
        "    # Retornando diferenciação\n",
        "    y_reconst1 = y_pred_xgb_gs_train.cumsum() # diff1\n",
        "\n",
        "    # Retorno do real no treino\n",
        "    y_true_train = y_xgb.iloc[:len(y_train)]\n",
        "\n",
        "    # Terminando o retorno da diferenciação\n",
        "    y_pred_xgb_gs_train = y_reconst1 + y_true_train[0]\n",
        "\n",
        "    # Erro\n",
        "    rmse_train = np.sqrt(mean_squared_error(y_true_train, y_pred_xgb_gs_train))\n",
        "    rmse_train_scores.append(rmse_train)\n",
        "\n",
        "    # RMSE médio da combinação\n",
        "    mean_rmse_test = np.mean(rmse_test_scores)\n",
        "    mean_rmse_train = np.mean(rmse_train_scores)\n",
        "\n",
        "    print(f\"Params: lr={lr}, depth={md}, n_estimators={ne} \"\n",
        "          f\"| RMSE teste: {mean_rmse_test:.2f} | RMSE treino: {mean_rmse_train:.2f} | Relação {mean_rmse_train/mean_rmse_test:.2f}\")\n",
        "\n",
        "    # Guardar melhor combinação\n",
        "    if mean_rmse_test < best_rmse:\n",
        "          best_rmse = mean_rmse_test\n",
        "          best_params = (lr, md, ne)\n",
        "\n",
        "\n",
        "print(f\"\\n Melhor combinação: lr={best_params[0]}, depth={best_params[1]} \"\n",
        "      f\"n_estimators={best_params[2]} | RMSE teste: {best_rmse:.2f} \")"
      ],
      "metadata": {
        "colab": {
          "base_uri": "https://localhost:8080/"
        },
        "id": "LpLdH9BmgSBj",
        "outputId": "890d15da-6cd6-4a79-9776-a8c14d450b29"
      },
      "execution_count": 124,
      "outputs": [
        {
          "output_type": "stream",
          "name": "stdout",
          "text": [
            "Params: lr=0.005, depth=3, n_estimators=100 | RMSE teste: 84.38 | RMSE treino: 654.48 | Relação 7.76\n",
            "Params: lr=0.005, depth=3, n_estimators=300 | RMSE teste: 125.49 | RMSE treino: 270.37 | Relação 2.15\n",
            "Params: lr=0.005, depth=3, n_estimators=500 | RMSE teste: 151.67 | RMSE treino: 147.86 | Relação 0.97\n",
            "Params: lr=0.005, depth=5, n_estimators=100 | RMSE teste: 82.07 | RMSE treino: 653.23 | Relação 7.96\n",
            "Params: lr=0.005, depth=5, n_estimators=300 | RMSE teste: 117.33 | RMSE treino: 267.11 | Relação 2.28\n",
            "Params: lr=0.005, depth=5, n_estimators=500 | RMSE teste: 140.90 | RMSE treino: 147.84 | Relação 1.05\n",
            "Params: lr=0.005, depth=7, n_estimators=100 | RMSE teste: 79.22 | RMSE treino: 657.33 | Relação 8.30\n",
            "Params: lr=0.005, depth=7, n_estimators=300 | RMSE teste: 130.46 | RMSE treino: 271.42 | Relação 2.08\n",
            "Params: lr=0.005, depth=7, n_estimators=500 | RMSE teste: 146.68 | RMSE treino: 152.81 | Relação 1.04\n",
            "Params: lr=0.003, depth=3, n_estimators=100 | RMSE teste: 77.33 | RMSE treino: 787.78 | Relação 10.19\n",
            "Params: lr=0.003, depth=3, n_estimators=300 | RMSE teste: 104.10 | RMSE treino: 455.19 | Relação 4.37\n",
            "Params: lr=0.003, depth=3, n_estimators=500 | RMSE teste: 126.42 | RMSE treino: 270.73 | Relação 2.14\n",
            "Params: lr=0.003, depth=5, n_estimators=100 | RMSE teste: 74.42 | RMSE treino: 789.44 | Relação 10.61\n",
            "Params: lr=0.003, depth=5, n_estimators=300 | RMSE teste: 102.56 | RMSE treino: 449.98 | Relação 4.39\n",
            "Params: lr=0.003, depth=5, n_estimators=500 | RMSE teste: 117.10 | RMSE treino: 266.95 | Relação 2.28\n",
            "Params: lr=0.003, depth=7, n_estimators=100 | RMSE teste: 73.47 | RMSE treino: 787.89 | Relação 10.72\n",
            "Params: lr=0.003, depth=7, n_estimators=300 | RMSE teste: 107.20 | RMSE treino: 453.97 | Relação 4.23\n",
            "Params: lr=0.003, depth=7, n_estimators=500 | RMSE teste: 129.99 | RMSE treino: 271.70 | Relação 2.09\n",
            "Params: lr=0.001, depth=3, n_estimators=100 | RMSE teste: 80.36 | RMSE treino: 950.34 | Relação 11.83\n",
            "Params: lr=0.001, depth=3, n_estimators=300 | RMSE teste: 77.29 | RMSE treino: 788.12 | Relação 10.20\n",
            "Params: lr=0.001, depth=3, n_estimators=500 | RMSE teste: 84.01 | RMSE treino: 655.26 | Relação 7.80\n",
            "Params: lr=0.001, depth=5, n_estimators=100 | RMSE teste: 79.36 | RMSE treino: 949.74 | Relação 11.97\n",
            "Params: lr=0.001, depth=5, n_estimators=300 | RMSE teste: 74.42 | RMSE treino: 789.67 | Relação 10.61\n",
            "Params: lr=0.001, depth=5, n_estimators=500 | RMSE teste: 81.17 | RMSE treino: 653.91 | Relação 8.06\n",
            "Params: lr=0.001, depth=7, n_estimators=100 | RMSE teste: 78.90 | RMSE treino: 949.53 | Relação 12.03\n",
            "Params: lr=0.001, depth=7, n_estimators=300 | RMSE teste: 73.47 | RMSE treino: 788.13 | Relação 10.73\n",
            "Params: lr=0.001, depth=7, n_estimators=500 | RMSE teste: 79.05 | RMSE treino: 657.85 | Relação 8.32\n",
            "\n",
            "RMSE teste: 79.05 RMSE treino: 657.85\n",
            "\n",
            " Melhor combinação: lr=0.003, depth=7 n_estimators=100 | RMSE teste: 73.47 \n"
          ]
        }
      ]
    },
    {
      "cell_type": "code",
      "source": [
        "# Instanciar modelo\n",
        "model_xgb_best = xgb.XGBRegressor(\n",
        "        learning_rate=0.001,\n",
        "        max_depth=7,\n",
        "        n_estimators=300,\n",
        "        random_state=42\n",
        "    )\n",
        "\n",
        "# Treinar modelo\n",
        "model_xgb_best = model_xgb_best.fit(X_train, y_train)\n",
        "\n",
        "# ====== TESTE =======\n",
        "# Previsão\n",
        "y_pred_xgb_best_test = model_xgb_best.predict(X_test)\n",
        "\n",
        "# Retornando diferenciação\n",
        "y_reconst1 = y_pred_xgb_best_test.cumsum() # diff1\n",
        "\n",
        "# Terminando o retorno da diferenciação\n",
        "y_pred_xgb_best_test = y_reconst1 + y_true_test[0]\n",
        "\n",
        "# Erro no teste\n",
        "rmse_test_best = np.sqrt(mean_squared_error(y_true_test, y_pred_xgb_best_test))\n",
        "\n",
        "\n",
        "# ===== TREINO =======\n",
        "#Previsão\n",
        "y_pred_xgb_best = model_xgb_best.predict(X_train)\n",
        "\n",
        "\n",
        "# Retornando diferenciação\n",
        "y_reconst1 = y_pred_xgb_best.cumsum() # diff1\n",
        "\n",
        "# Retorno do real no treino\n",
        "y_true_train = y_xgb.iloc[:len(y_train)]\n",
        "\n",
        "# Terminando o retorno da diferenciação\n",
        "y_pred_xgb_best = y_reconst1 + y_true_train[0]\n",
        "\n",
        "# Erro no treino\n",
        "rmse_train = np.sqrt(mean_squared_error(y_true_train, y_pred_xgb_best))\n",
        "\n",
        "# ==== RESULTADOS ======\n",
        "print(f\"RMSE Teste: {rmse_test_best:.2f} | RMSE Treino: {rmse_train:.2f}\")"
      ],
      "metadata": {
        "colab": {
          "base_uri": "https://localhost:8080/"
        },
        "id": "nh-wXK-98Qqo",
        "outputId": "886a3c3d-085b-4487-c003-ea2c4f89b786"
      },
      "execution_count": 155,
      "outputs": [
        {
          "output_type": "stream",
          "name": "stdout",
          "text": [
            "RMSE Teste: 73.47 | RMSE Treino: 788.13\n"
          ]
        }
      ]
    },
    {
      "cell_type": "code",
      "source": [
        "# Criar figura\n",
        "plt.figure(figsize=(6, 3))\n",
        "\n",
        "# Plotar valores reais\n",
        "plt.plot(y_test.index, y_true_test, 'r-', label='Valores Reais')\n",
        "plt.plot(y_test.index, y_pred_gs_rmse, '--',color='grey', label='SARIMAX - Grid Search')\n",
        "plt.plot(y_test.index, y_pred_xgb_init_test, '--',color='green', label='XGB - Inicial')\n",
        "plt.plot(y_test.index, y_pred_xgb_best_test, '--',color='black', label='XGB - Grid Search')\n",
        "\n",
        "# Opções dos eixos\n",
        "plt.ylabel('R$/m²', fontsize=10)\n",
        "plt.yticks(fontsize=10)\n",
        "plt.xticks(fontsize=10)\n",
        "\n",
        "# Legedas\n",
        "plt.legend()\n",
        "\n",
        "# Tirar eixos paralelos\n",
        "ax = plt.gca()\n",
        "ax.spines['top'].set_visible(False)\n",
        "ax.spines['right'].set_visible(False)\n",
        "\n",
        "# Ajustar gráfico\n",
        "plt.tight_layout()\n",
        "plt.show()"
      ],
      "metadata": {
        "colab": {
          "base_uri": "https://localhost:8080/",
          "height": 307
        },
        "id": "lLJB3Sqc8Cnn",
        "outputId": "0c2b5c58-056e-44b2-9e6a-94e718bd1d44"
      },
      "execution_count": 156,
      "outputs": [
        {
          "output_type": "display_data",
          "data": {
            "text/plain": [
              "<Figure size 600x300 with 1 Axes>"
            ],
            "image/png": "[encoded data removed]"
          },
          "metadata": {}
        }
      ]
    },
    {
      "cell_type": "markdown",
      "source": [
        "# 4. LSTM\n",
        "Criado lags\n",
        "\n",
        "Diferenciado features e target, aplicado ScalerMinMax\n",
        "\n",
        "Foi testado 3 funções de ativação, diversos neuronios e mais de uma camada.\n",
        "\n",
        "Porém melhor modelo, foi com ReLU e dropout, pois estava overffitando.\n",
        "\n",
        "RMSE teste: 80.9009\n",
        "RMSE train: 30.6661"
      ],
      "metadata": {
        "id": "UmCKF0oiZ-XP"
      }
    },
    {
      "cell_type": "code",
      "source": [
        "# Definir a seed para reprodutibilidade\n",
        "seed = 0\n",
        "np.random.seed(seed)\n",
        "tf.random.set_seed(seed)\n",
        "random.seed(seed)\n",
        "os.environ['PYTHONHASHSEED'] = str(seed)\n",
        "\n",
        "timesteps = 3"
      ],
      "metadata": {
        "id": "E9m29WqbfCpb"
      },
      "execution_count": 210,
      "outputs": []
    },
    {
      "cell_type": "code",
      "source": [
        "# Definiar dataframe\n",
        "df_lstm = df_pre_pro.copy()"
      ],
      "metadata": {
        "id": "reNyng4G606U"
      },
      "execution_count": 211,
      "outputs": []
    },
    {
      "cell_type": "code",
      "source": [
        "# Criando features com lag\n",
        "\n",
        "lags =  3 # Lag\n",
        "\n",
        "# Lag features\n",
        "X_lstm = df_lstm.copy()\n",
        "for col in X_lstm.columns.tolist():\n",
        "    for lag in range(1, lags + 1):\n",
        "        X_lstm[f'{col}_lag_{lag}'] = X_lstm[col].shift(lag)\n",
        "\n",
        "#Difenreciar variaveis\n",
        "X_lstm =X_lstm.diff()\n",
        "X_lstm = X_lstm.dropna()"
      ],
      "metadata": {
        "id": "KxxQvWOvNj1Q"
      },
      "execution_count": 212,
      "outputs": []
    },
    {
      "cell_type": "code",
      "source": [
        "# Excluir variaivel orginais deixando apenas defasadas para evitar dataleakage\n",
        "X_lstm = X_lstm.drop(columns=df_lstm.columns.tolist())"
      ],
      "metadata": {
        "id": "TeKc5XVZosXJ"
      },
      "execution_count": 213,
      "outputs": []
    },
    {
      "cell_type": "code",
      "source": [
        "# Definir target\n",
        "y_lstm = df_lstm['go_price'].diff().dropna()\n",
        "\n",
        "# Igualar tamanho devido as perdas de amostra com defasagem\n",
        "y_lstm = y_lstm.drop(pd.Timestamp(\"2014-02-01\"))\n",
        "y_lstm = y_lstm.drop(pd.Timestamp(\"2014-03-01\"))\n",
        "y_lstm = y_lstm.drop(pd.Timestamp(\"2014-04-01\"))"
      ],
      "metadata": {
        "id": "KErCHg5R7kra"
      },
      "execution_count": 214,
      "outputs": []
    },
    {
      "cell_type": "code",
      "source": [
        "# Verificação do tamanho dos DF\n",
        "print(X_lstm.shape)\n",
        "print(y_lstm.shape)"
      ],
      "metadata": {
        "colab": {
          "base_uri": "https://localhost:8080/"
        },
        "id": "bUA8EhdyC2Q2",
        "outputId": "08b7bff4-f1d1-4840-fd80-7d52789aae89"
      },
      "execution_count": 215,
      "outputs": [
        {
          "output_type": "stream",
          "name": "stdout",
          "text": [
            "(134, 30)\n",
            "(134,)\n"
          ]
        }
      ]
    },
    {
      "cell_type": "code",
      "source": [
        "# Dividir em treino e teste\n",
        "# Incluído 3 amostras a mais no teste por conta do timesteps\n",
        "X_train_df, X_test_df = X_lstm.iloc[:-test_size], X_lstm.iloc[-test_size - timesteps:]\n",
        "y_train_s, y_test_s = y_lstm.iloc[:-test_size], y_lstm.iloc[-test_size - timesteps:]"
      ],
      "metadata": {
        "id": "lXwzTgFJLJzQ"
      },
      "execution_count": 216,
      "outputs": []
    },
    {
      "cell_type": "code",
      "source": [
        "# Definir scalers para as variaveis\n",
        "scaler_X = MinMaxScaler()\n",
        "scaler_y = MinMaxScaler()"
      ],
      "metadata": {
        "id": "Vwo1QMktMQLb"
      },
      "execution_count": 217,
      "outputs": []
    },
    {
      "cell_type": "code",
      "source": [
        "# Ajustar para array, aplicar scaler e retornar com dataframe em X\n",
        "X_train_scaled = pd.DataFrame(\n",
        "    scaler_X.fit_transform(X_train_df),\n",
        "    columns=X_train_df.columns,\n",
        "    index=X_train_df.index\n",
        ")\n",
        "\n",
        "# Ajustar para array, aplicar scaler, transforma em 1D e retorna série com y\n",
        "y_train_scaled = pd.Series(\n",
        "    scaler_y.fit_transform(y_train_s.values.reshape(-1,1)).flatten(),\n",
        "    index=y_train_s.index\n",
        ")\n"
      ],
      "metadata": {
        "id": "x8aDmnsVRL48"
      },
      "execution_count": 218,
      "outputs": []
    },
    {
      "cell_type": "code",
      "source": [
        "# Ajustar para array, aplicar scaler e retornar com dataframe em X\n",
        "X_test_scaled = pd.DataFrame(\n",
        "    scaler_X.transform(X_test_df),\n",
        "    columns=X_test_df.columns,\n",
        "    index=X_test_df.index\n",
        ")\n",
        "\n",
        "# Ajustar para array, aplicar scaler, transforma em 1D e retorna série com y\n",
        "y_test_scaled = pd.Series(\n",
        "    scaler_y.transform(y_test_s.values.reshape(-1,1)).flatten(),\n",
        "    index=y_test_s.index\n",
        ")"
      ],
      "metadata": {
        "id": "XmxO0Mz1RLs0"
      },
      "execution_count": 219,
      "outputs": []
    },
    {
      "cell_type": "code",
      "source": [
        "# Função de janelas deslisantes\n",
        "# Cria os array no formato para alimentar o lstm\n",
        "def create_lstm_windows(X_df, y_s, timesteps):\n",
        "    X_list, y_list = [], []\n",
        "    indices = []\n",
        "    for i in range(timesteps, len(X_df)):\n",
        "        X_list.append(X_df.iloc[i-timesteps:i].values)\n",
        "        y_list.append(y_s.iloc[i])\n",
        "        indices.append(X_df.index[i])\n",
        "    X_arr = np.array(X_list)\n",
        "    y_arr = np.array(y_list)\n",
        "    return X_arr, y_arr, indices"
      ],
      "metadata": {
        "id": "LhEMIDez8iAs"
      },
      "execution_count": 220,
      "outputs": []
    },
    {
      "cell_type": "code",
      "source": [
        "# Aplicando a funçao\n",
        "X_train_lstm, y_train_lstm, train_idx = create_lstm_windows(X_train_scaled, y_train_scaled, timesteps)\n",
        "X_test_lstm, y_test_lstm, test_idx = create_lstm_windows(X_test_scaled, y_test_scaled, timesteps)\n",
        "\n",
        "# Mostrar formato\n",
        "print(\"X_train_lstm shape:\", X_train_lstm.shape)  # (samples, timesteps, features)\n",
        "print(\"y_train_lstm shape:\", y_train_lstm.shape)"
      ],
      "metadata": {
        "colab": {
          "base_uri": "https://localhost:8080/"
        },
        "id": "oetKEvIM7DuI",
        "outputId": "d24cda49-4749-42fa-b3a4-a723e8f0af09"
      },
      "execution_count": 239,
      "outputs": [
        {
          "output_type": "stream",
          "name": "stdout",
          "text": [
            "X_train_lstm shape: (119, 3, 30)\n",
            "y_train_lstm shape: (119,)\n"
          ]
        }
      ]
    },
    {
      "cell_type": "code",
      "source": [
        "# Estanciar modelo LSTM\n",
        "model = Sequential([\n",
        "    LSTM(150, activation = 'relu', input_shape=(timesteps, X_train_lstm.shape[2]),\n",
        "    dropout=0.2),\n",
        "    Dropout(0.2),\n",
        "    Dense(1)\n",
        "])\n",
        "\n",
        "# Otimizador\n",
        "model.compile(optimizer='adam')\n",
        "\n",
        "# Treino\n",
        "model.fit(X_train_lstm, y_train_lstm, epochs=50, batch_size=12, verbose=1)"
      ],
      "metadata": {
        "colab": {
          "base_uri": "https://localhost:8080/"
        },
        "id": "aVajxZDt99HO",
        "outputId": "d190dc1d-1296-46d1-e2e5-a23af95f4e7a"
      },
      "execution_count": 257,
      "outputs": [
        {
          "output_type": "stream",
          "name": "stdout",
          "text": [
            "Epoch 1/50\n",
            "\u001b[1m10/10\u001b[0m \u001b[32m━━━━━━━━━━━━━━━━━━━━\u001b[0m\u001b[37m\u001b[0m \u001b[1m2s\u001b[0m 7ms/step - loss: 0.1064\n",
            "Epoch 2/50\n",
            "\u001b[1m10/10\u001b[0m \u001b[32m━━━━━━━━━━━━━━━━━━━━\u001b[0m\u001b[37m\u001b[0m \u001b[1m0s\u001b[0m 9ms/step - loss: 0.0445\n",
            "Epoch 3/50\n",
            "\u001b[1m10/10\u001b[0m \u001b[32m━━━━━━━━━━━━━━━━━━━━\u001b[0m\u001b[37m\u001b[0m \u001b[1m0s\u001b[0m 8ms/step - loss: 0.0381\n",
            "Epoch 4/50\n",
            "\u001b[1m10/10\u001b[0m \u001b[32m━━━━━━━━━━━━━━━━━━━━\u001b[0m\u001b[37m\u001b[0m \u001b[1m0s\u001b[0m 7ms/step - loss: 0.0344 \n",
            "Epoch 5/50\n",
            "\u001b[1m10/10\u001b[0m \u001b[32m━━━━━━━━━━━━━━━━━━━━\u001b[0m\u001b[37m\u001b[0m \u001b[1m0s\u001b[0m 8ms/step - loss: 0.0256\n",
            "Epoch 6/50\n",
            "\u001b[1m10/10\u001b[0m \u001b[32m━━━━━━━━━━━━━━━━━━━━\u001b[0m\u001b[37m\u001b[0m \u001b[1m0s\u001b[0m 7ms/step - loss: 0.0192 \n",
            "Epoch 7/50\n",
            "\u001b[1m10/10\u001b[0m \u001b[32m━━━━━━━━━━━━━━━━━━━━\u001b[0m\u001b[37m\u001b[0m \u001b[1m0s\u001b[0m 7ms/step - loss: 0.0241 \n",
            "Epoch 8/50\n",
            "\u001b[1m10/10\u001b[0m \u001b[32m━━━━━━━━━━━━━━━━━━━━\u001b[0m\u001b[37m\u001b[0m \u001b[1m0s\u001b[0m 8ms/step - loss: 0.0262 \n",
            "Epoch 9/50\n",
            "\u001b[1m10/10\u001b[0m \u001b[32m━━━━━━━━━━━━━━━━━━━━\u001b[0m\u001b[37m\u001b[0m \u001b[1m0s\u001b[0m 7ms/step - loss: 0.0243 \n",
            "Epoch 10/50\n",
            "\u001b[1m10/10\u001b[0m \u001b[32m━━━━━━━━━━━━━━━━━━━━\u001b[0m\u001b[37m\u001b[0m \u001b[1m0s\u001b[0m 7ms/step - loss: 0.0232 \n",
            "Epoch 11/50\n",
            "\u001b[1m10/10\u001b[0m \u001b[32m━━━━━━━━━━━━━━━━━━━━\u001b[0m\u001b[37m\u001b[0m \u001b[1m0s\u001b[0m 7ms/step - loss: 0.0245 \n",
            "Epoch 12/50\n",
            "\u001b[1m10/10\u001b[0m \u001b[32m━━━━━━━━━━━━━━━━━━━━\u001b[0m\u001b[37m\u001b[0m \u001b[1m0s\u001b[0m 8ms/step - loss: 0.0245\n",
            "Epoch 13/50\n",
            "\u001b[1m10/10\u001b[0m \u001b[32m━━━━━━━━━━━━━━━━━━━━\u001b[0m\u001b[37m\u001b[0m \u001b[1m0s\u001b[0m 7ms/step - loss: 0.0242 \n",
            "Epoch 14/50\n",
            "\u001b[1m10/10\u001b[0m \u001b[32m━━━━━━━━━━━━━━━━━━━━\u001b[0m\u001b[37m\u001b[0m \u001b[1m0s\u001b[0m 7ms/step - loss: 0.0263 \n",
            "Epoch 15/50\n",
            "\u001b[1m10/10\u001b[0m \u001b[32m━━━━━━━━━━━━━━━━━━━━\u001b[0m\u001b[37m\u001b[0m \u001b[1m0s\u001b[0m 7ms/step - loss: 0.0238 \n",
            "Epoch 16/50\n",
            "\u001b[1m10/10\u001b[0m \u001b[32m━━━━━━━━━━━━━━━━━━━━\u001b[0m\u001b[37m\u001b[0m \u001b[1m0s\u001b[0m 7ms/step - loss: 0.0224 \n",
            "Epoch 17/50\n",
            "\u001b[1m10/10\u001b[0m \u001b[32m━━━━━━━━━━━━━━━━━━━━\u001b[0m\u001b[37m\u001b[0m \u001b[1m0s\u001b[0m 8ms/step - loss: 0.0274\n",
            "Epoch 18/50\n",
            "\u001b[1m10/10\u001b[0m \u001b[32m━━━━━━━━━━━━━━━━━━━━\u001b[0m\u001b[37m\u001b[0m \u001b[1m0s\u001b[0m 8ms/step - loss: 0.0286 \n",
            "Epoch 19/50\n",
            "\u001b[1m10/10\u001b[0m \u001b[32m━━━━━━━━━━━━━━━━━━━━\u001b[0m\u001b[37m\u001b[0m \u001b[1m0s\u001b[0m 10ms/step - loss: 0.0176\n",
            "Epoch 20/50\n",
            "\u001b[1m10/10\u001b[0m \u001b[32m━━━━━━━━━━━━━━━━━━━━\u001b[0m\u001b[37m\u001b[0m \u001b[1m0s\u001b[0m 8ms/step - loss: 0.0171 \n",
            "Epoch 21/50\n",
            "\u001b[1m10/10\u001b[0m \u001b[32m━━━━━━━━━━━━━━━━━━━━\u001b[0m\u001b[37m\u001b[0m \u001b[1m0s\u001b[0m 7ms/step - loss: 0.0226 \n",
            "Epoch 22/50\n",
            "\u001b[1m10/10\u001b[0m \u001b[32m━━━━━━━━━━━━━━━━━━━━\u001b[0m\u001b[37m\u001b[0m \u001b[1m0s\u001b[0m 12ms/step - loss: 0.0225\n",
            "Epoch 23/50\n",
            "\u001b[1m10/10\u001b[0m \u001b[32m━━━━━━━━━━━━━━━━━━━━\u001b[0m\u001b[37m\u001b[0m \u001b[1m0s\u001b[0m 11ms/step - loss: 0.0211\n",
            "Epoch 24/50\n",
            "\u001b[1m10/10\u001b[0m \u001b[32m━━━━━━━━━━━━━━━━━━━━\u001b[0m\u001b[37m\u001b[0m \u001b[1m0s\u001b[0m 11ms/step - loss: 0.0149\n",
            "Epoch 25/50\n",
            "\u001b[1m10/10\u001b[0m \u001b[32m━━━━━━━━━━━━━━━━━━━━\u001b[0m\u001b[37m\u001b[0m \u001b[1m0s\u001b[0m 12ms/step - loss: 0.0226\n",
            "Epoch 26/50\n",
            "\u001b[1m10/10\u001b[0m \u001b[32m━━━━━━━━━━━━━━━━━━━━\u001b[0m\u001b[37m\u001b[0m \u001b[1m0s\u001b[0m 12ms/step - loss: 0.0228\n",
            "Epoch 27/50\n",
            "\u001b[1m10/10\u001b[0m \u001b[32m━━━━━━━━━━━━━━━━━━━━\u001b[0m\u001b[37m\u001b[0m \u001b[1m0s\u001b[0m 11ms/step - loss: 0.0152\n",
            "Epoch 28/50\n",
            "\u001b[1m10/10\u001b[0m \u001b[32m━━━━━━━━━━━━━━━━━━━━\u001b[0m\u001b[37m\u001b[0m \u001b[1m0s\u001b[0m 10ms/step - loss: 0.0161\n",
            "Epoch 29/50\n",
            "\u001b[1m10/10\u001b[0m \u001b[32m━━━━━━━━━━━━━━━━━━━━\u001b[0m\u001b[37m\u001b[0m \u001b[1m0s\u001b[0m 13ms/step - loss: 0.0196\n",
            "Epoch 30/50\n",
            "\u001b[1m10/10\u001b[0m \u001b[32m━━━━━━━━━━━━━━━━━━━━\u001b[0m\u001b[37m\u001b[0m \u001b[1m0s\u001b[0m 12ms/step - loss: 0.0188\n",
            "Epoch 31/50\n",
            "\u001b[1m10/10\u001b[0m \u001b[32m━━━━━━━━━━━━━━━━━━━━\u001b[0m\u001b[37m\u001b[0m \u001b[1m0s\u001b[0m 12ms/step - loss: 0.0175\n",
            "Epoch 32/50\n",
            "\u001b[1m10/10\u001b[0m \u001b[32m━━━━━━━━━━━━━━━━━━━━\u001b[0m\u001b[37m\u001b[0m \u001b[1m0s\u001b[0m 12ms/step - loss: 0.0202\n",
            "Epoch 33/50\n",
            "\u001b[1m10/10\u001b[0m \u001b[32m━━━━━━━━━━━━━━━━━━━━\u001b[0m\u001b[37m\u001b[0m \u001b[1m0s\u001b[0m 7ms/step - loss: 0.0267 \n",
            "Epoch 34/50\n",
            "\u001b[1m10/10\u001b[0m \u001b[32m━━━━━━━━━━━━━━━━━━━━\u001b[0m\u001b[37m\u001b[0m \u001b[1m0s\u001b[0m 7ms/step - loss: 0.0243 \n",
            "Epoch 35/50\n",
            "\u001b[1m10/10\u001b[0m \u001b[32m━━━━━━━━━━━━━━━━━━━━\u001b[0m\u001b[37m\u001b[0m \u001b[1m0s\u001b[0m 7ms/step - loss: 0.0202 \n",
            "Epoch 36/50\n",
            "\u001b[1m10/10\u001b[0m \u001b[32m━━━━━━━━━━━━━━━━━━━━\u001b[0m\u001b[37m\u001b[0m \u001b[1m0s\u001b[0m 7ms/step - loss: 0.0176 \n",
            "Epoch 37/50\n",
            "\u001b[1m10/10\u001b[0m \u001b[32m━━━━━━━━━━━━━━━━━━━━\u001b[0m\u001b[37m\u001b[0m \u001b[1m0s\u001b[0m 9ms/step - loss: 0.0180\n",
            "Epoch 38/50\n",
            "\u001b[1m10/10\u001b[0m \u001b[32m━━━━━━━━━━━━━━━━━━━━\u001b[0m\u001b[37m\u001b[0m \u001b[1m0s\u001b[0m 7ms/step - loss: 0.0162 \n",
            "Epoch 39/50\n",
            "\u001b[1m10/10\u001b[0m \u001b[32m━━━━━━━━━━━━━━━━━━━━\u001b[0m\u001b[37m\u001b[0m \u001b[1m0s\u001b[0m 7ms/step - loss: 0.0177 \n",
            "Epoch 40/50\n",
            "\u001b[1m10/10\u001b[0m \u001b[32m━━━━━━━━━━━━━━━━━━━━\u001b[0m\u001b[37m\u001b[0m \u001b[1m0s\u001b[0m 7ms/step - loss: 0.0176 \n",
            "Epoch 41/50\n",
            "\u001b[1m10/10\u001b[0m \u001b[32m━━━━━━━━━━━━━━━━━━━━\u001b[0m\u001b[37m\u001b[0m \u001b[1m0s\u001b[0m 7ms/step - loss: 0.0153 \n",
            "Epoch 42/50\n",
            "\u001b[1m10/10\u001b[0m \u001b[32m━━━━━━━━━━━━━━━━━━━━\u001b[0m\u001b[37m\u001b[0m \u001b[1m0s\u001b[0m 8ms/step - loss: 0.0180 \n",
            "Epoch 43/50\n",
            "\u001b[1m10/10\u001b[0m \u001b[32m━━━━━━━━━━━━━━━━━━━━\u001b[0m\u001b[37m\u001b[0m \u001b[1m0s\u001b[0m 8ms/step - loss: 0.0154 \n",
            "Epoch 44/50\n",
            "\u001b[1m10/10\u001b[0m \u001b[32m━━━━━━━━━━━━━━━━━━━━\u001b[0m\u001b[37m\u001b[0m \u001b[1m0s\u001b[0m 7ms/step - loss: 0.0217 \n",
            "Epoch 45/50\n",
            "\u001b[1m10/10\u001b[0m \u001b[32m━━━━━━━━━━━━━━━━━━━━\u001b[0m\u001b[37m\u001b[0m \u001b[1m0s\u001b[0m 8ms/step - loss: 0.0211 \n",
            "Epoch 46/50\n",
            "\u001b[1m10/10\u001b[0m \u001b[32m━━━━━━━━━━━━━━━━━━━━\u001b[0m\u001b[37m\u001b[0m \u001b[1m0s\u001b[0m 8ms/step - loss: 0.0155 \n",
            "Epoch 47/50\n",
            "\u001b[1m10/10\u001b[0m \u001b[32m━━━━━━━━━━━━━━━━━━━━\u001b[0m\u001b[37m\u001b[0m \u001b[1m0s\u001b[0m 8ms/step - loss: 0.0210\n",
            "Epoch 48/50\n",
            "\u001b[1m10/10\u001b[0m \u001b[32m━━━━━━━━━━━━━━━━━━━━\u001b[0m\u001b[37m\u001b[0m \u001b[1m0s\u001b[0m 7ms/step - loss: 0.0165 \n",
            "Epoch 49/50\n",
            "\u001b[1m10/10\u001b[0m \u001b[32m━━━━━━━━━━━━━━━━━━━━\u001b[0m\u001b[37m\u001b[0m \u001b[1m0s\u001b[0m 7ms/step - loss: 0.0132 \n",
            "Epoch 50/50\n",
            "\u001b[1m10/10\u001b[0m \u001b[32m━━━━━━━━━━━━━━━━━━━━\u001b[0m\u001b[37m\u001b[0m \u001b[1m0s\u001b[0m 8ms/step - loss: 0.0176 \n"
          ]
        },
        {
          "output_type": "execute_result",
          "data": {
            "text/plain": [
              "<keras.src.callbacks.history.History at 0x7c96f55b4200>"
            ]
          },
          "metadata": {},
          "execution_count": 257
        }
      ]
    },
    {
      "cell_type": "code",
      "source": [
        "# Predição teste, inverte scaler\n",
        "y_pred_scaled = model.predict(X_test_lstm)\n",
        "y_pred_lstm = scaler_y.inverse_transform(y_pred_scaled)\n",
        "\n",
        "# Predição treino, inverte scaler\n",
        "y_pred_scaled_train = model.predict(X_train_lstm)\n",
        "y_pred_lstm_train = scaler_y.inverse_transform(y_pred_scaled_train)"
      ],
      "metadata": {
        "colab": {
          "base_uri": "https://localhost:8080/"
        },
        "id": "WAyFNz9vSaKs",
        "outputId": "f275319d-7460-4b26-bb27-23269f08b963"
      },
      "execution_count": 258,
      "outputs": [
        {
          "output_type": "stream",
          "name": "stdout",
          "text": [
            "\u001b[1m1/1\u001b[0m \u001b[32m━━━━━━━━━━━━━━━━━━━━\u001b[0m\u001b[37m\u001b[0m \u001b[1m0s\u001b[0m 228ms/step\n",
            "\u001b[1m4/4\u001b[0m \u001b[32m━━━━━━━━━━━━━━━━━━━━\u001b[0m\u001b[37m\u001b[0m \u001b[1m0s\u001b[0m 10ms/step \n"
          ]
        }
      ]
    },
    {
      "cell_type": "code",
      "source": [
        "# Retornando diferenciação da predição\n",
        "y_reconst1 = y_pred_lstm.cumsum()\n",
        "\n",
        "# Invertendo scaler dos valores reais (teste e treino)\n",
        "y_test_true = scaler_y.inverse_transform(y_test_lstm.reshape(-1,1))\n",
        "y_train_true = scaler_y.inverse_transform(y_train_lstm.reshape(-1,1))\n",
        "\n",
        "# Continuando o retorno da diferenciação\n",
        "y_pred_lstm = y_reconst1 + y_true_test[0]\n",
        "\n",
        "# Calculo do erro no treino\n",
        "rmse_train = np.sqrt(mean_squared_error(y_train_true, y_pred_lstm_train))\n",
        "\n",
        "# Calculo do erro no teste\n",
        "rmse = np.sqrt(mean_squared_error(y_true_test, y_pred_lstm))\n",
        "\n",
        "#Mostrar valores do erro\n",
        "print(f\"RMSE teste: {rmse:.4f}\")\n",
        "print(f\"RMSE train: {rmse_train:.4f}\")"
      ],
      "metadata": {
        "colab": {
          "base_uri": "https://localhost:8080/"
        },
        "id": "y1d39_cOSv2A",
        "outputId": "dece230d-3806-4b40-d002-8fe80aa4f7f7"
      },
      "execution_count": 259,
      "outputs": [
        {
          "output_type": "stream",
          "name": "stdout",
          "text": [
            "RMSE teste: 80.9009\n",
            "RMSE train: 30.6661\n"
          ]
        }
      ]
    },
    {
      "cell_type": "code",
      "source": [
        "# Criar figura\n",
        "plt.figure(figsize=(6, 3))\n",
        "\n",
        "# Plotar valores reais\n",
        "plt.plot(y_test.index, y_true_test, 'r-', label='Valores Reais')\n",
        "plt.plot(y_test.index, y_pred_gs_rmse, '--',color='grey', label='SARIMAX - Grid Search')\n",
        "plt.plot(y_test.index, y_pred_xgb_best_test, '--',color='black', label='XGBoost - Grid Search')\n",
        "plt.plot(y_test.index, y_pred_lstm, '--',color='green', label='LSTM')\n",
        "\n",
        "# Opções dos eixos\n",
        "plt.ylabel('R$/m²', fontsize=10)\n",
        "plt.yticks(fontsize=10)\n",
        "plt.xticks(fontsize=10)\n",
        "\n",
        "# Legedas\n",
        "plt.legend()\n",
        "\n",
        "# Tirar eixos paralelos\n",
        "ax = plt.gca()\n",
        "ax.spines['top'].set_visible(False)\n",
        "ax.spines['right'].set_visible(False)\n",
        "\n",
        "# Ajustar gráfico\n",
        "plt.tight_layout()\n",
        "plt.show()"
      ],
      "metadata": {
        "colab": {
          "base_uri": "https://localhost:8080/",
          "height": 306
        },
        "id": "A-uX2BuDSfBV",
        "outputId": "9fa12d8d-733e-4f4d-88eb-2a7e8b022cdc"
      },
      "execution_count": 262,
      "outputs": [
        {
          "output_type": "display_data",
          "data": {
            "text/plain": [
              "<Figure size 600x300 with 1 Axes>"
            ],
            "image/png": "[encoded data removed]"
          },
          "metadata": {}
        }
      ]
    },
    {
      "cell_type": "code",
      "source": [
        "# Definir data inicial\n",
        "start_date = \"2020-01-01\"\n",
        "\n",
        "plt.figure(figsize=(10, 5))\n",
        "\n",
        "# Série real a partir da data escolhida\n",
        "plt.plot(y.loc[start_date:].index, y.loc[start_date:], 'r-', label='Valores Reais')\n",
        "\n",
        "# Previsões a partir da mesma data\n",
        "plt.plot(y_test.loc[start_date:].index, y_pred_gs_rmse[-len(y_test.loc[start_date:]):],\n",
        "         '--', color='grey', label='SARIMAX - GS')\n",
        "plt.plot(y_test.loc[start_date:].index, y_pred_lstm[-len(y_test.loc[start_date:]):],\n",
        "         '--', color='green', label='LSTM')\n",
        "plt.plot(y_test.loc[start_date:].index, y_pred_xgb_best_test[-len(y_test.loc[start_date:]):],\n",
        "         '--', color='black', label='XGBoost - GS')\n",
        "\n",
        "# Opções dos eixos\n",
        "plt.ylabel('R$/m²', fontsize=10)\n",
        "plt.yticks(fontsize=10)\n",
        "plt.xticks(fontsize=10)\n",
        "\n",
        "# Legedas\n",
        "plt.legend()\n",
        "\n",
        "# Tirar eixos paralelos\n",
        "ax = plt.gca()\n",
        "ax.spines['top'].set_visible(False)\n",
        "ax.spines['right'].set_visible(False)\n",
        "\n",
        "# Ajustar gráfico\n",
        "plt.tight_layout()\n",
        "plt.show()"
      ],
      "metadata": {
        "colab": {
          "base_uri": "https://localhost:8080/",
          "height": 507
        },
        "id": "6a93WUhmhilz",
        "outputId": "4300e823-a46e-440b-e317-8c4522479128"
      },
      "execution_count": 209,
      "outputs": [
        {
          "output_type": "display_data",
          "data": {
            "text/plain": [
              "<Figure size 1000x500 with 1 Axes>"
            ],
            "image/png": "[encoded data removed]"
          },
          "metadata": {}
        }
      ]
    }
  ],
  "metadata": {
    "colab": {
      "collapsed_sections": [
        "2QOBib6AbJOB",
        "BwyX15l7pmbb"
      ],
      "provenance": [],
      "authorship_tag": "ABX9TyPfNeZ6csv4ejaJJNUUYPl6",
      "include_colab_link": true
    },
    "kernelspec": {
      "display_name": "Python 3",
      "name": "python3"
    },
    "language_info": {
      "name": "python"
    }
  },
  "nbformat": 4,
  "nbformat_minor": 0
}